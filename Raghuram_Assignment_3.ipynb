{
  "nbformat": 4,
  "nbformat_minor": 0,
  "metadata": {
    "colab": {
      "name": "Raghuram Assignment 3",
      "version": "0.3.2",
      "provenance": [],
      "include_colab_link": true
    },
    "kernelspec": {
      "name": "python3",
      "display_name": "Python 3"
    },
    "accelerator": "GPU"
  },
  "cells": [
    {
      "cell_type": "markdown",
      "metadata": {
        "id": "view-in-github",
        "colab_type": "text"
      },
      "source": [
        "<a href=\"https://colab.research.google.com/github/Raghuramas94/PROJECT-1/blob/master/Raghuram_Assignment_3.ipynb\" target=\"_parent\"><img src=\"https://colab.research.google.com/assets/colab-badge.svg\" alt=\"Open In Colab\"/></a>"
      ]
    },
    {
      "cell_type": "markdown",
      "metadata": {
        "id": "Tyu_59Xvvnvi",
        "colab_type": "text"
      },
      "source": [
        "Installing KERAS"
      ]
    },
    {
      "cell_type": "code",
      "metadata": {
        "id": "Iwq6ghTQFLO8",
        "colab_type": "code",
        "colab": {
          "base_uri": "https://localhost:8080/",
          "height": 34
        },
        "outputId": "d91bdbe6-4c7a-43a4-e8bf-5fe0bdb45596"
      },
      "source": [
        "# https://keras.io/\n",
        "!pip install -q keras\n",
        "import keras"
      ],
      "execution_count": 1,
      "outputs": [
        {
          "output_type": "stream",
          "text": [
            "Using TensorFlow backend.\n"
          ],
          "name": "stderr"
        }
      ]
    },
    {
      "cell_type": "markdown",
      "metadata": {
        "id": "K8MWDT7HvtzT",
        "colab_type": "text"
      },
      "source": [
        "Importing the necessary libraries"
      ]
    },
    {
      "cell_type": "code",
      "metadata": {
        "id": "vQJsVMnQFRJD",
        "colab_type": "code",
        "colab": {}
      },
      "source": [
        "import numpy as np\n",
        "\n",
        "from keras.models import Sequential\n",
        "from keras.layers import Dense, Dropout, Activation, Flatten, Add\n",
        "from keras.layers import Convolution2D, MaxPooling2D, BatchNormalization\n",
        "from keras.utils import np_utils\n",
        "from keras import optimizers\n",
        "\n",
        "from keras.datasets import mnist"
      ],
      "execution_count": 0,
      "outputs": []
    },
    {
      "cell_type": "markdown",
      "metadata": {
        "id": "yQz6PSmm6YxN",
        "colab_type": "text"
      },
      "source": [
        "downloading the data from MNIST to train and test splits"
      ]
    },
    {
      "cell_type": "code",
      "metadata": {
        "id": "itTikooxFWpt",
        "colab_type": "code",
        "colab": {
          "base_uri": "https://localhost:8080/",
          "height": 50
        },
        "outputId": "76228343-faa4-4e05-90e7-c5c98194414c"
      },
      "source": [
        "(X_train, y_train), (X_test, y_test) = mnist.load_data()"
      ],
      "execution_count": 3,
      "outputs": [
        {
          "output_type": "stream",
          "text": [
            "Downloading data from https://s3.amazonaws.com/img-datasets/mnist.npz\n",
            "11493376/11490434 [==============================] - 0s 0us/step\n"
          ],
          "name": "stdout"
        }
      ]
    },
    {
      "cell_type": "markdown",
      "metadata": {
        "id": "xQD6fQNHv7_b",
        "colab_type": "text"
      },
      "source": [
        "Plotting the data from MNIST"
      ]
    },
    {
      "cell_type": "code",
      "metadata": {
        "id": "rlE906TGFbPR",
        "colab_type": "code",
        "colab": {
          "base_uri": "https://localhost:8080/",
          "height": 302
        },
        "outputId": "487ae0c5-da98-4aa0-eca0-7bc18cd4eb54"
      },
      "source": [
        "print (X_train.shape)\n",
        "from matplotlib import pyplot as plt\n",
        "%matplotlib inline\n",
        "plt.imshow(X_train[0])"
      ],
      "execution_count": 4,
      "outputs": [
        {
          "output_type": "stream",
          "text": [
            "(60000, 28, 28)\n"
          ],
          "name": "stdout"
        },
        {
          "output_type": "execute_result",
          "data": {
            "text/plain": [
              "<matplotlib.image.AxesImage at 0x7fcd3a2c7080>"
            ]
          },
          "metadata": {
            "tags": []
          },
          "execution_count": 4
        },
        {
          "output_type": "display_data",
          "data": {
            "image/png": "[encoded data removed]",
            "text/plain": [
              "<Figure size 432x288 with 1 Axes>"
            ]
          },
          "metadata": {
            "tags": []
          }
        }
      ]
    },
    {
      "cell_type": "code",
      "metadata": {
        "id": "ze-fnZC3FcED",
        "colab_type": "code",
        "colab": {}
      },
      "source": [
        "X_train = X_train.reshape(X_train.shape[0], 28, 28,1)\n",
        "X_test = X_test.reshape(X_test.shape[0], 28, 28,1)"
      ],
      "execution_count": 0,
      "outputs": []
    },
    {
      "cell_type": "markdown",
      "metadata": {
        "id": "bjKkyrfrwDXl",
        "colab_type": "text"
      },
      "source": [
        "Normalizing the input"
      ]
    },
    {
      "cell_type": "code",
      "metadata": {
        "id": "Qv4r6SVVFjnq",
        "colab_type": "code",
        "colab": {}
      },
      "source": [
        "X_train = X_train.astype('float32')\n",
        "X_test = X_test.astype('float32')\n",
        "X_train /= 255\n",
        "X_test /= 255"
      ],
      "execution_count": 0,
      "outputs": []
    },
    {
      "cell_type": "code",
      "metadata": {
        "id": "xLiGUMWNFmM-",
        "colab_type": "code",
        "colab": {
          "base_uri": "https://localhost:8080/",
          "height": 34
        },
        "outputId": "53618731-e27f-43cc-e005-d939566b9598"
      },
      "source": [
        "y_train[:10]"
      ],
      "execution_count": 7,
      "outputs": [
        {
          "output_type": "execute_result",
          "data": {
            "text/plain": [
              "array([5, 0, 4, 1, 9, 2, 1, 3, 1, 4], dtype=uint8)"
            ]
          },
          "metadata": {
            "tags": []
          },
          "execution_count": 7
        }
      ]
    },
    {
      "cell_type": "code",
      "metadata": {
        "id": "ZzOH5ExoFo5C",
        "colab_type": "code",
        "colab": {}
      },
      "source": [
        "# Convert 1-dimensional class arrays to 10-dimensional class matrices\n",
        "Y_train = np_utils.to_categorical(y_train, 10)\n",
        "Y_test = np_utils.to_categorical(y_test, 10)"
      ],
      "execution_count": 0,
      "outputs": []
    },
    {
      "cell_type": "code",
      "metadata": {
        "id": "mQVGNneIFsgW",
        "colab_type": "code",
        "colab": {
          "base_uri": "https://localhost:8080/",
          "height": 185
        },
        "outputId": "e5930898-2ebf-4275-f414-7542a2057917"
      },
      "source": [
        "Y_train[:10]"
      ],
      "execution_count": 9,
      "outputs": [
        {
          "output_type": "execute_result",
          "data": {
            "text/plain": [
              "array([[0., 0., 0., 0., 0., 1., 0., 0., 0., 0.],\n",
              "       [1., 0., 0., 0., 0., 0., 0., 0., 0., 0.],\n",
              "       [0., 0., 0., 0., 1., 0., 0., 0., 0., 0.],\n",
              "       [0., 1., 0., 0., 0., 0., 0., 0., 0., 0.],\n",
              "       [0., 0., 0., 0., 0., 0., 0., 0., 0., 1.],\n",
              "       [0., 0., 1., 0., 0., 0., 0., 0., 0., 0.],\n",
              "       [0., 1., 0., 0., 0., 0., 0., 0., 0., 0.],\n",
              "       [0., 0., 0., 1., 0., 0., 0., 0., 0., 0.],\n",
              "       [0., 1., 0., 0., 0., 0., 0., 0., 0., 0.],\n",
              "       [0., 0., 0., 0., 1., 0., 0., 0., 0., 0.]], dtype=float32)"
            ]
          },
          "metadata": {
            "tags": []
          },
          "execution_count": 9
        }
      ]
    },
    {
      "cell_type": "markdown",
      "metadata": {
        "id": "o0_FeE29wQit",
        "colab_type": "text"
      },
      "source": [
        "Convolution Layer "
      ]
    },
    {
      "cell_type": "code",
      "metadata": {
        "id": "VpTsKTsDFv2x",
        "colab_type": "code",
        "colab": {
          "base_uri": "https://localhost:8080/",
          "height": 70
        },
        "outputId": "76620234-9ed9-430a-8ac5-8c49af31b451"
      },
      "source": [
        "from keras.layers import Activation\n",
        "model = Sequential()\n",
        "\n",
        " \n",
        "model.add(Convolution2D(32, 3, 3, activation='relu', input_shape=(28,28,1)))\n",
        "model.add(BatchNormalization())\n",
        "#model.add(Dropout(0.1))\n",
        "model.add(MaxPooling2D(pool_size=(2,2)))\n",
        "model.add(Convolution2D(10, 1, activation='relu'))\n",
        "model.add(BatchNormalization())\n",
        "#model.add(MaxPooling2D(pool_size=(2,2)))\n",
        "model.add(Dropout(0.1))\n",
        "\n",
        "model.add(Convolution2D(10, 13))\n",
        "model.add(Flatten())\n",
        "model.add(Activation('softmax'))"
      ],
      "execution_count": 55,
      "outputs": [
        {
          "output_type": "stream",
          "text": [
            "/usr/local/lib/python3.6/dist-packages/ipykernel_launcher.py:5: UserWarning: Update your `Conv2D` call to the Keras 2 API: `Conv2D(32, (3, 3), activation=\"relu\", input_shape=(28, 28, 1...)`\n",
            "  \"\"\"\n"
          ],
          "name": "stderr"
        }
      ]
    },
    {
      "cell_type": "markdown",
      "metadata": {
        "id": "zHn-0CLnwT_R",
        "colab_type": "text"
      },
      "source": [
        "printing the summary of the model"
      ]
    },
    {
      "cell_type": "code",
      "metadata": {
        "id": "tjnpAWdPFz5V",
        "colab_type": "code",
        "colab": {
          "base_uri": "https://localhost:8080/",
          "height": 437
        },
        "outputId": "7ed410bd-2ef0-4a69-d121-b9b88dfd2238"
      },
      "source": [
        "model.summary()"
      ],
      "execution_count": 56,
      "outputs": [
        {
          "output_type": "stream",
          "text": [
            "_________________________________________________________________\n",
            "Layer (type)                 Output Shape              Param #   \n",
            "=================================================================\n",
            "conv2d_13 (Conv2D)           (None, 26, 26, 32)        320       \n",
            "_________________________________________________________________\n",
            "batch_normalization_9 (Batch (None, 26, 26, 32)        128       \n",
            "_________________________________________________________________\n",
            "max_pooling2d_5 (MaxPooling2 (None, 13, 13, 32)        0         \n",
            "_________________________________________________________________\n",
            "conv2d_14 (Conv2D)           (None, 13, 13, 10)        330       \n",
            "_________________________________________________________________\n",
            "batch_normalization_10 (Batc (None, 13, 13, 10)        40        \n",
            "_________________________________________________________________\n",
            "dropout_5 (Dropout)          (None, 13, 13, 10)        0         \n",
            "_________________________________________________________________\n",
            "conv2d_15 (Conv2D)           (None, 1, 1, 10)          16910     \n",
            "_________________________________________________________________\n",
            "flatten_5 (Flatten)          (None, 10)                0         \n",
            "_________________________________________________________________\n",
            "activation_5 (Activation)    (None, 10)                0         \n",
            "=================================================================\n",
            "Total params: 17,728\n",
            "Trainable params: 17,644\n",
            "Non-trainable params: 84\n",
            "_________________________________________________________________\n"
          ],
          "name": "stdout"
        }
      ]
    },
    {
      "cell_type": "markdown",
      "metadata": {
        "id": "pUbqPSCoweIf",
        "colab_type": "text"
      },
      "source": [
        "defining the optimizer and learning rate"
      ]
    },
    {
      "cell_type": "code",
      "metadata": {
        "id": "C_-CO425KEtu",
        "colab_type": "code",
        "colab": {}
      },
      "source": [
        "sgd = optimizers.SGD(lr=0.009, decay=1e-6, momentum=0.9, nesterov=True)\n",
        "model.compile(loss='mean_squared_error', optimizer=sgd)"
      ],
      "execution_count": 0,
      "outputs": []
    },
    {
      "cell_type": "markdown",
      "metadata": {
        "id": "AxxCcQyBwlkV",
        "colab_type": "text"
      },
      "source": [
        "compiling the model"
      ]
    },
    {
      "cell_type": "code",
      "metadata": {
        "id": "cSOYCb7NF39U",
        "colab_type": "code",
        "colab": {}
      },
      "source": [
        "model.compile(loss='categorical_crossentropy',\n",
        "             optimizer='sgd',\n",
        "             metrics=['accuracy'])"
      ],
      "execution_count": 0,
      "outputs": []
    },
    {
      "cell_type": "markdown",
      "metadata": {
        "id": "Tg2ykeQEwoV9",
        "colab_type": "text"
      },
      "source": [
        "Model training "
      ]
    },
    {
      "cell_type": "code",
      "metadata": {
        "id": "UbItL3zGF6_a",
        "colab_type": "code",
        "colab": {
          "base_uri": "https://localhost:8080/",
          "height": 739
        },
        "outputId": "c59e4451-2f46-43a8-de48-71318700e579"
      },
      "source": [
        "model.fit(X_train, Y_train, batch_size=16, nb_epoch=20, verbose=1)"
      ],
      "execution_count": 59,
      "outputs": [
        {
          "output_type": "stream",
          "text": [
            "/usr/local/lib/python3.6/dist-packages/ipykernel_launcher.py:1: UserWarning: The `nb_epoch` argument in `fit` has been renamed `epochs`.\n",
            "  \"\"\"Entry point for launching an IPython kernel.\n"
          ],
          "name": "stderr"
        },
        {
          "output_type": "stream",
          "text": [
            "Epoch 1/20\n",
            "60000/60000 [==============================] - 18s 293us/step - loss: 0.1441 - acc: 0.9567\n",
            "Epoch 2/20\n",
            "60000/60000 [==============================] - 18s 299us/step - loss: 0.0701 - acc: 0.9789\n",
            "Epoch 3/20\n",
            "60000/60000 [==============================] - 17s 285us/step - loss: 0.0569 - acc: 0.9823\n",
            "Epoch 4/20\n",
            "60000/60000 [==============================] - 16s 272us/step - loss: 0.0477 - acc: 0.9853\n",
            "Epoch 5/20\n",
            "60000/60000 [==============================] - 16s 272us/step - loss: 0.0432 - acc: 0.9861\n",
            "Epoch 6/20\n",
            "60000/60000 [==============================] - 16s 275us/step - loss: 0.0387 - acc: 0.9877\n",
            "Epoch 7/20\n",
            "60000/60000 [==============================] - 17s 286us/step - loss: 0.0371 - acc: 0.9880\n",
            "Epoch 8/20\n",
            "60000/60000 [==============================] - 16s 271us/step - loss: 0.0333 - acc: 0.9895\n",
            "Epoch 9/20\n",
            "60000/60000 [==============================] - 16s 270us/step - loss: 0.0307 - acc: 0.9900\n",
            "Epoch 10/20\n",
            "60000/60000 [==============================] - 16s 269us/step - loss: 0.0288 - acc: 0.9913\n",
            "Epoch 11/20\n",
            "60000/60000 [==============================] - 17s 277us/step - loss: 0.0289 - acc: 0.9905\n",
            "Epoch 12/20\n",
            "60000/60000 [==============================] - 17s 281us/step - loss: 0.0271 - acc: 0.9911\n",
            "Epoch 13/20\n",
            "60000/60000 [==============================] - 16s 268us/step - loss: 0.0256 - acc: 0.9914\n",
            "Epoch 14/20\n",
            "60000/60000 [==============================] - 16s 268us/step - loss: 0.0246 - acc: 0.9920\n",
            "Epoch 15/20\n",
            "60000/60000 [==============================] - 16s 268us/step - loss: 0.0232 - acc: 0.9922\n",
            "Epoch 16/20\n",
            "60000/60000 [==============================] - 17s 279us/step - loss: 0.0223 - acc: 0.9923\n",
            "Epoch 17/20\n",
            "60000/60000 [==============================] - 17s 277us/step - loss: 0.0219 - acc: 0.9928\n",
            "Epoch 18/20\n",
            "60000/60000 [==============================] - 16s 268us/step - loss: 0.0214 - acc: 0.9927\n",
            "Epoch 19/20\n",
            "60000/60000 [==============================] - 16s 267us/step - loss: 0.0199 - acc: 0.9934\n",
            "Epoch 20/20\n",
            "60000/60000 [==============================] - 17s 289us/step - loss: 0.0203 - acc: 0.9930\n"
          ],
          "name": "stdout"
        },
        {
          "output_type": "execute_result",
          "data": {
            "text/plain": [
              "<keras.callbacks.History at 0x7fccedd6b400>"
            ]
          },
          "metadata": {
            "tags": []
          },
          "execution_count": 59
        }
      ]
    },
    {
      "cell_type": "code",
      "metadata": {
        "id": "B8eoU3QcGuq6",
        "colab_type": "code",
        "colab": {
          "base_uri": "https://localhost:8080/",
          "height": 1095
        },
        "outputId": "e052dfbf-0eff-4ab0-d732-725d6797dd07"
      },
      "source": [
        "model.fit(X_train, Y_train, batch_size=128, nb_epoch=30, verbose=1)"
      ],
      "execution_count": 60,
      "outputs": [
        {
          "output_type": "stream",
          "text": [
            "Epoch 1/30\n",
            " 3200/60000 [>.............................] - ETA: 3s - loss: 0.0150 - acc: 0.9950"
          ],
          "name": "stdout"
        },
        {
          "output_type": "stream",
          "text": [
            "/usr/local/lib/python3.6/dist-packages/ipykernel_launcher.py:1: UserWarning: The `nb_epoch` argument in `fit` has been renamed `epochs`.\n",
            "  \"\"\"Entry point for launching an IPython kernel.\n"
          ],
          "name": "stderr"
        },
        {
          "output_type": "stream",
          "text": [
            "60000/60000 [==============================] - 3s 47us/step - loss: 0.0130 - acc: 0.9960\n",
            "Epoch 2/30\n",
            "60000/60000 [==============================] - 2s 41us/step - loss: 0.0128 - acc: 0.9956\n",
            "Epoch 3/30\n",
            "60000/60000 [==============================] - 2s 41us/step - loss: 0.0120 - acc: 0.9960\n",
            "Epoch 4/30\n",
            "60000/60000 [==============================] - 3s 43us/step - loss: 0.0118 - acc: 0.9967\n",
            "Epoch 5/30\n",
            "60000/60000 [==============================] - 3s 46us/step - loss: 0.0118 - acc: 0.9964\n",
            "Epoch 6/30\n",
            "60000/60000 [==============================] - 3s 46us/step - loss: 0.0108 - acc: 0.9970\n",
            "Epoch 7/30\n",
            "60000/60000 [==============================] - 3s 46us/step - loss: 0.0116 - acc: 0.9965\n",
            "Epoch 8/30\n",
            "60000/60000 [==============================] - 3s 46us/step - loss: 0.0109 - acc: 0.9968\n",
            "Epoch 9/30\n",
            "60000/60000 [==============================] - 3s 44us/step - loss: 0.0103 - acc: 0.9971\n",
            "Epoch 10/30\n",
            "60000/60000 [==============================] - 2s 41us/step - loss: 0.0108 - acc: 0.9969\n",
            "Epoch 11/30\n",
            "60000/60000 [==============================] - 2s 41us/step - loss: 0.0108 - acc: 0.9967\n",
            "Epoch 12/30\n",
            "60000/60000 [==============================] - 2s 41us/step - loss: 0.0103 - acc: 0.9970\n",
            "Epoch 13/30\n",
            "60000/60000 [==============================] - 2s 41us/step - loss: 0.0105 - acc: 0.9970\n",
            "Epoch 14/30\n",
            "60000/60000 [==============================] - 2s 41us/step - loss: 0.0108 - acc: 0.9966\n",
            "Epoch 15/30\n",
            "60000/60000 [==============================] - 2s 41us/step - loss: 0.0104 - acc: 0.9970\n",
            "Epoch 16/30\n",
            "60000/60000 [==============================] - 2s 41us/step - loss: 0.0109 - acc: 0.9968\n",
            "Epoch 17/30\n",
            "60000/60000 [==============================] - 2s 41us/step - loss: 0.0098 - acc: 0.9973\n",
            "Epoch 18/30\n",
            "60000/60000 [==============================] - 2s 41us/step - loss: 0.0103 - acc: 0.9969\n",
            "Epoch 19/30\n",
            "60000/60000 [==============================] - 2s 41us/step - loss: 0.0098 - acc: 0.9971\n",
            "Epoch 20/30\n",
            "60000/60000 [==============================] - 2s 41us/step - loss: 0.0092 - acc: 0.9975\n",
            "Epoch 21/30\n",
            "60000/60000 [==============================] - 2s 41us/step - loss: 0.0096 - acc: 0.9973\n",
            "Epoch 22/30\n",
            "60000/60000 [==============================] - 2s 41us/step - loss: 0.0095 - acc: 0.9971\n",
            "Epoch 23/30\n",
            "60000/60000 [==============================] - 2s 41us/step - loss: 0.0099 - acc: 0.9970\n",
            "Epoch 24/30\n",
            "60000/60000 [==============================] - 2s 41us/step - loss: 0.0096 - acc: 0.9971\n",
            "Epoch 25/30\n",
            "60000/60000 [==============================] - 2s 41us/step - loss: 0.0098 - acc: 0.9972\n",
            "Epoch 26/30\n",
            "60000/60000 [==============================] - 2s 41us/step - loss: 0.0097 - acc: 0.9971\n",
            "Epoch 27/30\n",
            "60000/60000 [==============================] - 2s 41us/step - loss: 0.0091 - acc: 0.9976\n",
            "Epoch 28/30\n",
            "60000/60000 [==============================] - 2s 41us/step - loss: 0.0095 - acc: 0.9973\n",
            "Epoch 29/30\n",
            "60000/60000 [==============================] - 2s 41us/step - loss: 0.0102 - acc: 0.9970\n",
            "Epoch 30/30\n",
            "60000/60000 [==============================] - 2s 41us/step - loss: 0.0094 - acc: 0.9972\n"
          ],
          "name": "stdout"
        },
        {
          "output_type": "execute_result",
          "data": {
            "text/plain": [
              "<keras.callbacks.History at 0x7fcced794898>"
            ]
          },
          "metadata": {
            "tags": []
          },
          "execution_count": 60
        }
      ]
    },
    {
      "cell_type": "code",
      "metadata": {
        "id": "4lcvQW96F_di",
        "colab_type": "code",
        "colab": {}
      },
      "source": [
        "score = model.evaluate(X_test, Y_test, verbose=0)"
      ],
      "execution_count": 0,
      "outputs": []
    },
    {
      "cell_type": "markdown",
      "metadata": {
        "id": "gaKitnRAwveA",
        "colab_type": "text"
      },
      "source": [
        "evaluation on the test set"
      ]
    },
    {
      "cell_type": "code",
      "metadata": {
        "id": "UsKKQVdsGB94",
        "colab_type": "code",
        "colab": {
          "base_uri": "https://localhost:8080/",
          "height": 34
        },
        "outputId": "b1d451c6-71e9-4c6f-e68c-4cfb007e78e8"
      },
      "source": [
        "print(score)"
      ],
      "execution_count": 68,
      "outputs": [
        {
          "output_type": "stream",
          "text": [
            "[0.04433951988323533, 0.9881]\n"
          ],
          "name": "stdout"
        }
      ]
    },
    {
      "cell_type": "code",
      "metadata": {
        "id": "XgovX0ezGEtP",
        "colab_type": "code",
        "colab": {}
      },
      "source": [
        "y_pred = model.predict(X_test)"
      ],
      "execution_count": 0,
      "outputs": []
    },
    {
      "cell_type": "code",
      "metadata": {
        "id": "OrQauRl6GIzt",
        "colab_type": "code",
        "colab": {
          "base_uri": "https://localhost:8080/",
          "height": 336
        },
        "outputId": "740abb5b-10c8-448b-f873-6036472e0b41"
      },
      "source": [
        "print(y_pred[:9])\n",
        "print(y_test[:9])"
      ],
      "execution_count": 64,
      "outputs": [
        {
          "output_type": "stream",
          "text": [
            "[[7.7569576e-14 8.5667028e-14 1.1622468e-10 2.0653497e-08 1.1957143e-18\n",
            "  4.8502627e-15 2.7368758e-22 1.0000000e+00 3.6436465e-13 2.3989258e-11]\n",
            " [8.5790006e-09 2.0449626e-07 9.9999952e-01 1.7358382e-11 1.5627953e-14\n",
            "  2.0616084e-13 2.5858935e-07 3.7455467e-15 3.3215470e-09 2.9049879e-14]\n",
            " [1.8302142e-08 9.9995828e-01 1.0410878e-06 3.0290215e-09 1.4285916e-05\n",
            "  5.6356829e-08 9.1266630e-09 2.5982827e-05 3.7732605e-07 1.4458669e-09]\n",
            " [9.9999309e-01 2.7610047e-16 5.9683298e-06 1.0773515e-11 3.8238610e-13\n",
            "  1.4062258e-10 9.0538566e-07 1.2879362e-11 5.0702305e-09 4.8220940e-08]\n",
            " [4.3759340e-11 6.2441352e-10 2.3398172e-11 1.1742965e-11 9.9999988e-01\n",
            "  2.1819020e-15 4.6985506e-12 1.3516735e-08 3.7994793e-10 6.1275635e-08]\n",
            " [6.8209111e-08 9.9976259e-01 6.4649868e-07 2.6351357e-10 1.8617990e-05\n",
            "  1.6472035e-09 2.4821711e-10 2.1783241e-04 2.4348594e-07 2.3311046e-09]\n",
            " [1.7954901e-14 5.7832952e-09 6.2388059e-09 1.3631566e-11 9.9989891e-01\n",
            "  3.9885328e-10 4.1559003e-13 1.7032800e-09 1.0054103e-04 5.1400866e-07]\n",
            " [3.3470449e-18 6.2778666e-10 1.7660953e-10 8.7340690e-12 6.7283537e-07\n",
            "  1.9960592e-07 1.8763508e-15 3.3224703e-13 1.3289035e-08 9.9999917e-01]\n",
            " [1.8188294e-08 2.9685439e-14 4.3012775e-13 3.7530370e-09 7.5730733e-10\n",
            "  7.1157962e-01 2.8274682e-01 4.7031127e-15 5.6705838e-03 2.9616167e-06]]\n",
            "[7 2 1 0 4 1 4 9 5]\n"
          ],
          "name": "stdout"
        }
      ]
    },
    {
      "cell_type": "code",
      "metadata": {
        "id": "rKfWh751GNZU",
        "colab_type": "code",
        "colab": {}
      },
      "source": [
        "layer_dict = dict([(layer.name, layer) for layer in model.layers])"
      ],
      "execution_count": 0,
      "outputs": []
    },
    {
      "cell_type": "markdown",
      "metadata": {
        "id": "whCIlMBmw3F5",
        "colab_type": "text"
      },
      "source": [
        "printing the output and saving the weights"
      ]
    },
    {
      "cell_type": "code",
      "metadata": {
        "id": "qz3XrDg2GRY-",
        "colab_type": "code",
        "colab": {
          "base_uri": "https://localhost:8080/",
          "height": 1000
        },
        "outputId": "6c741fdf-7153-474c-c85d-e091982a061f"
      },
      "source": [
        "import numpy as np\n",
        "from matplotlib import pyplot as plt\n",
        "from keras import backend as K\n",
        "%matplotlib inline\n",
        "# util function to convert a tensor into a valid image\n",
        "def deprocess_image(x):\n",
        "    # normalize tensor: center on 0., ensure std is 0.1\n",
        "    x -= x.mean()\n",
        "    x /= (x.std() + 1e-5)\n",
        "    x *= 0.1\n",
        "\n",
        "    # clip to [0, 1]\n",
        "    x += 0.5\n",
        "    x = np.clip(x, 0, 1)\n",
        "\n",
        "    # convert to RGB array\n",
        "    x *= 255\n",
        "    #x = x.transpose((1, 2, 0))\n",
        "    x = np.clip(x, 0, 255).astype('uint8')\n",
        "    return x\n",
        "\n",
        "def vis_img_in_filter(img = np.array(X_train[2]).reshape((1, 28, 28, 1)).astype(np.float64), \n",
        "                      layer_name = 'conv2d_14'):\n",
        "    layer_output = layer_dict[layer_name].output\n",
        "    img_ascs = list()\n",
        "    for filter_index in range(layer_output.shape[3]):\n",
        "        # build a loss function that maximizes the activation\n",
        "        # of the nth filter of the layer considered\n",
        "        loss = K.mean(layer_output[:, :, :, filter_index])\n",
        "\n",
        "        # compute the gradient of the input picture wrt this loss\n",
        "        grads = K.gradients(loss, model.input)[0]\n",
        "\n",
        "        # normalization trick: we normalize the gradient\n",
        "        grads /= (K.sqrt(K.mean(K.square(grads))) + 1e-5)\n",
        "\n",
        "        # this function returns the loss and grads given the input picture\n",
        "        iterate = K.function([model.input], [loss, grads])\n",
        "\n",
        "        # step size for gradient ascent\n",
        "        step = 5.\n",
        "\n",
        "        img_asc = np.array(img)\n",
        "        # run gradient ascent for 20 steps\n",
        "        for i in range(20):\n",
        "            loss_value, grads_value = iterate([img_asc])\n",
        "            img_asc += grads_value * step\n",
        "\n",
        "        img_asc = img_asc[0]\n",
        "        img_ascs.append(deprocess_image(img_asc).reshape((28, 28)))\n",
        "        \n",
        "    if layer_output.shape[3] >= 35:\n",
        "        plot_x, plot_y = 6, 6\n",
        "    elif layer_output.shape[3] >= 23:\n",
        "        plot_x, plot_y = 4, 6\n",
        "    elif layer_output.shape[3] >= 11:\n",
        "        plot_x, plot_y = 2, 6\n",
        "    else:\n",
        "        plot_x, plot_y = 1, 2\n",
        "    fig, ax = plt.subplots(plot_x, plot_y, figsize = (12, 12))\n",
        "    ax[0, 0].imshow(img.reshape((28, 28)), cmap = 'gray')\n",
        "    ax[0, 0].set_title('Input image')\n",
        "    fig.suptitle('Input image and %s filters' % (layer_name,))\n",
        "    fig.tight_layout(pad = 0.3, rect = [0, 0, 0.9, 0.9])\n",
        "    for (x, y) in [(i, j) for i in range(plot_x) for j in range(plot_y)]:\n",
        "        if x == 0 and y == 0:\n",
        "            continue\n",
        "        ax[x, y].imshow(img_ascs[x * plot_y + y - 1], cmap = 'gray')\n",
        "        ax[x, y].set_title('filter %d' % (x * plot_y + y - 1))\n",
        "\n",
        "vis_img_in_filter()"
      ],
      "execution_count": 66,
      "outputs": [
        {
          "output_type": "error",
          "ename": "IndexError",
          "evalue": "ignored",
          "traceback": [
            "\u001b[0;31m---------------------------------------------------------------------------\u001b[0m",
            "\u001b[0;31mIndexError\u001b[0m                                Traceback (most recent call last)",
            "\u001b[0;32m<ipython-input-66-19229f66b51a>\u001b[0m in \u001b[0;36m<module>\u001b[0;34m()\u001b[0m\n\u001b[1;32m     69\u001b[0m         \u001b[0max\u001b[0m\u001b[0;34m[\u001b[0m\u001b[0mx\u001b[0m\u001b[0;34m,\u001b[0m \u001b[0my\u001b[0m\u001b[0;34m]\u001b[0m\u001b[0;34m.\u001b[0m\u001b[0mset_title\u001b[0m\u001b[0;34m(\u001b[0m\u001b[0;34m'filter %d'\u001b[0m \u001b[0;34m%\u001b[0m \u001b[0;34m(\u001b[0m\u001b[0mx\u001b[0m \u001b[0;34m*\u001b[0m \u001b[0mplot_y\u001b[0m \u001b[0;34m+\u001b[0m \u001b[0my\u001b[0m \u001b[0;34m-\u001b[0m \u001b[0;36m1\u001b[0m\u001b[0;34m)\u001b[0m\u001b[0;34m)\u001b[0m\u001b[0;34m\u001b[0m\u001b[0;34m\u001b[0m\u001b[0m\n\u001b[1;32m     70\u001b[0m \u001b[0;34m\u001b[0m\u001b[0m\n\u001b[0;32m---> 71\u001b[0;31m \u001b[0mvis_img_in_filter\u001b[0m\u001b[0;34m(\u001b[0m\u001b[0;34m)\u001b[0m\u001b[0;34m\u001b[0m\u001b[0;34m\u001b[0m\u001b[0m\n\u001b[0m",
            "\u001b[0;32m<ipython-input-66-19229f66b51a>\u001b[0m in \u001b[0;36mvis_img_in_filter\u001b[0;34m(img, layer_name)\u001b[0m\n\u001b[1;32m     59\u001b[0m         \u001b[0mplot_x\u001b[0m\u001b[0;34m,\u001b[0m \u001b[0mplot_y\u001b[0m \u001b[0;34m=\u001b[0m \u001b[0;36m1\u001b[0m\u001b[0;34m,\u001b[0m \u001b[0;36m2\u001b[0m\u001b[0;34m\u001b[0m\u001b[0;34m\u001b[0m\u001b[0m\n\u001b[1;32m     60\u001b[0m     \u001b[0mfig\u001b[0m\u001b[0;34m,\u001b[0m \u001b[0max\u001b[0m \u001b[0;34m=\u001b[0m \u001b[0mplt\u001b[0m\u001b[0;34m.\u001b[0m\u001b[0msubplots\u001b[0m\u001b[0;34m(\u001b[0m\u001b[0mplot_x\u001b[0m\u001b[0;34m,\u001b[0m \u001b[0mplot_y\u001b[0m\u001b[0;34m,\u001b[0m \u001b[0mfigsize\u001b[0m \u001b[0;34m=\u001b[0m \u001b[0;34m(\u001b[0m\u001b[0;36m12\u001b[0m\u001b[0;34m,\u001b[0m \u001b[0;36m12\u001b[0m\u001b[0;34m)\u001b[0m\u001b[0;34m)\u001b[0m\u001b[0;34m\u001b[0m\u001b[0;34m\u001b[0m\u001b[0m\n\u001b[0;32m---> 61\u001b[0;31m     \u001b[0max\u001b[0m\u001b[0;34m[\u001b[0m\u001b[0;36m0\u001b[0m\u001b[0;34m,\u001b[0m \u001b[0;36m0\u001b[0m\u001b[0;34m]\u001b[0m\u001b[0;34m.\u001b[0m\u001b[0mimshow\u001b[0m\u001b[0;34m(\u001b[0m\u001b[0mimg\u001b[0m\u001b[0;34m.\u001b[0m\u001b[0mreshape\u001b[0m\u001b[0;34m(\u001b[0m\u001b[0;34m(\u001b[0m\u001b[0;36m28\u001b[0m\u001b[0;34m,\u001b[0m \u001b[0;36m28\u001b[0m\u001b[0;34m)\u001b[0m\u001b[0;34m)\u001b[0m\u001b[0;34m,\u001b[0m \u001b[0mcmap\u001b[0m \u001b[0;34m=\u001b[0m \u001b[0;34m'gray'\u001b[0m\u001b[0;34m)\u001b[0m\u001b[0;34m\u001b[0m\u001b[0;34m\u001b[0m\u001b[0m\n\u001b[0m\u001b[1;32m     62\u001b[0m     \u001b[0max\u001b[0m\u001b[0;34m[\u001b[0m\u001b[0;36m0\u001b[0m\u001b[0;34m,\u001b[0m \u001b[0;36m0\u001b[0m\u001b[0;34m]\u001b[0m\u001b[0;34m.\u001b[0m\u001b[0mset_title\u001b[0m\u001b[0;34m(\u001b[0m\u001b[0;34m'Input image'\u001b[0m\u001b[0;34m)\u001b[0m\u001b[0;34m\u001b[0m\u001b[0;34m\u001b[0m\u001b[0m\n\u001b[1;32m     63\u001b[0m     \u001b[0mfig\u001b[0m\u001b[0;34m.\u001b[0m\u001b[0msuptitle\u001b[0m\u001b[0;34m(\u001b[0m\u001b[0;34m'Input image and %s filters'\u001b[0m \u001b[0;34m%\u001b[0m \u001b[0;34m(\u001b[0m\u001b[0mlayer_name\u001b[0m\u001b[0;34m,\u001b[0m\u001b[0;34m)\u001b[0m\u001b[0;34m)\u001b[0m\u001b[0;34m\u001b[0m\u001b[0;34m\u001b[0m\u001b[0m\n",
            "\u001b[0;31mIndexError\u001b[0m: too many indices for array"
          ]
        },
        {
          "output_type": "display_data",
          "data": {
            "image/png": "[encoded data removed]",
            "text/plain": [
              "<Figure size 864x864 with 2 Axes>"
            ]
          },
          "metadata": {
            "tags": []
          }
        }
      ]
    }
  ]
}