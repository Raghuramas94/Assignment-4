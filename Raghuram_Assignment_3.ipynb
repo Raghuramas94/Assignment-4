{
  "nbformat": 4,
  "nbformat_minor": 0,
  "metadata": {
    "colab": {
      "name": "Raghuram Assignment 3",
      "version": "0.3.2",
      "provenance": [],
      "include_colab_link": true
    },
    "kernelspec": {
      "name": "python3",
      "display_name": "Python 3"
    },
    "accelerator": "GPU"
  },
  "cells": [
    {
      "cell_type": "markdown",
      "metadata": {
        "id": "view-in-github",
        "colab_type": "text"
      },
      "source": [
        "<a href=\"https://colab.research.google.com/github/Raghuramas94/PROJECT-1/blob/master/Raghuram_Assignment_3.ipynb\" target=\"_parent\"><img src=\"https://colab.research.google.com/assets/colab-badge.svg\" alt=\"Open In Colab\"/></a>"
      ]
    },
    {
      "cell_type": "markdown",
      "metadata": {
        "id": "Tyu_59Xvvnvi",
        "colab_type": "text"
      },
      "source": [
        "Installing KERAS"
      ]
    },
    {
      "cell_type": "code",
      "metadata": {
        "id": "Iwq6ghTQFLO8",
        "colab_type": "code",
        "colab": {
          "base_uri": "https://localhost:8080/",
          "height": 34
        },
        "outputId": "d91bdbe6-4c7a-43a4-e8bf-5fe0bdb45596"
      },
      "source": [
        "# https://keras.io/\n",
        "!pip install -q keras\n",
        "import keras"
      ],
      "execution_count": 1,
      "outputs": [
        {
          "output_type": "stream",
          "text": [
            "Using TensorFlow backend.\n"
          ],
          "name": "stderr"
        }
      ]
    },
    {
      "cell_type": "markdown",
      "metadata": {
        "id": "K8MWDT7HvtzT",
        "colab_type": "text"
      },
      "source": [
        "Importing the necessary libraries"
      ]
    },
    {
      "cell_type": "code",
      "metadata": {
        "id": "vQJsVMnQFRJD",
        "colab_type": "code",
        "colab": {}
      },
      "source": [
        "import numpy as np\n",
        "\n",
        "from keras.models import Sequential\n",
        "from keras.layers import Dense, Dropout, Activation, Flatten, Add\n",
        "from keras.layers import Convolution2D, MaxPooling2D, BatchNormalization\n",
        "from keras.utils import np_utils\n",
        "from keras import optimizers\n",
        "\n",
        "from keras.datasets import mnist"
      ],
      "execution_count": 0,
      "outputs": []
    },
    {
      "cell_type": "markdown",
      "metadata": {
        "id": "yQz6PSmm6YxN",
        "colab_type": "text"
      },
      "source": [
        "downloading the data from MNIST to train and test splits"
      ]
    },
    {
      "cell_type": "code",
      "metadata": {
        "id": "itTikooxFWpt",
        "colab_type": "code",
        "colab": {
          "base_uri": "https://localhost:8080/",
          "height": 50
        },
        "outputId": "76228343-faa4-4e05-90e7-c5c98194414c"
      },
      "source": [
        "(X_train, y_train), (X_test, y_test) = mnist.load_data()"
      ],
      "execution_count": 3,
      "outputs": [
        {
          "output_type": "stream",
          "text": [
            "Downloading data from https://s3.amazonaws.com/img-datasets/mnist.npz\n",
            "11493376/11490434 [==============================] - 0s 0us/step\n"
          ],
          "name": "stdout"
        }
      ]
    },
    {
      "cell_type": "markdown",
      "metadata": {
        "id": "xQD6fQNHv7_b",
        "colab_type": "text"
      },
      "source": [
        "Plotting the data from MNIST"
      ]
    },
    {
      "cell_type": "code",
      "metadata": {
        "id": "rlE906TGFbPR",
        "colab_type": "code",
        "colab": {
          "base_uri": "https://localhost:8080/",
          "height": 302
        },
        "outputId": "487ae0c5-da98-4aa0-eca0-7bc18cd4eb54"
      },
      "source": [
        "print (X_train.shape)\n",
        "from matplotlib import pyplot as plt\n",
        "%matplotlib inline\n",
        "plt.imshow(X_train[0])"
      ],
      "execution_count": 4,
      "outputs": [
        {
          "output_type": "stream",
          "text": [
            "(60000, 28, 28)\n"
          ],
          "name": "stdout"
        },
        {
          "output_type": "execute_result",
          "data": {
            "text/plain": [
              "<matplotlib.image.AxesImage at 0x7fcd3a2c7080>"
            ]
          },
          "metadata": {
            "tags": []
          },
          "execution_count": 4
        },
        {
          "output_type": "display_data",
          "data": {
            "image/png": "[encoded data removed]",
            "text/plain": [
              "<Figure size 432x288 with 1 Axes>"
            ]
          },
          "metadata": {
            "tags": []
          }
        }
      ]
    },
    {
      "cell_type": "code",
      "metadata": {
        "id": "ze-fnZC3FcED",
        "colab_type": "code",
        "colab": {}
      },
      "source": [
        "X_train = X_train.reshape(X_train.shape[0], 28, 28,1)\n",
        "X_test = X_test.reshape(X_test.shape[0], 28, 28,1)"
      ],
      "execution_count": 0,
      "outputs": []
    },
    {
      "cell_type": "markdown",
      "metadata": {
        "id": "bjKkyrfrwDXl",
        "colab_type": "text"
      },
      "source": [
        "Normalizing the input"
      ]
    },
    {
      "cell_type": "code",
      "metadata": {
        "id": "Qv4r6SVVFjnq",
        "colab_type": "code",
        "colab": {}
      },
      "source": [
        "X_train = X_train.astype('float32')\n",
        "X_test = X_test.astype('float32')\n",
        "X_train /= 255\n",
        "X_test /= 255"
      ],
      "execution_count": 0,
      "outputs": []
    },
    {
      "cell_type": "code",
      "metadata": {
        "id": "xLiGUMWNFmM-",
        "colab_type": "code",
        "colab": {
          "base_uri": "https://localhost:8080/",
          "height": 34
        },
        "outputId": "53618731-e27f-43cc-e005-d939566b9598"
      },
      "source": [
        "y_train[:10]"
      ],
      "execution_count": 7,
      "outputs": [
        {
          "output_type": "execute_result",
          "data": {
            "text/plain": [
              "array([5, 0, 4, 1, 9, 2, 1, 3, 1, 4], dtype=uint8)"
            ]
          },
          "metadata": {
            "tags": []
          },
          "execution_count": 7
        }
      ]
    },
    {
      "cell_type": "code",
      "metadata": {
        "id": "ZzOH5ExoFo5C",
        "colab_type": "code",
        "colab": {}
      },
      "source": [
        "# Convert 1-dimensional class arrays to 10-dimensional class matrices\n",
        "Y_train = np_utils.to_categorical(y_train, 10)\n",
        "Y_test = np_utils.to_categorical(y_test, 10)"
      ],
      "execution_count": 0,
      "outputs": []
    },
    {
      "cell_type": "code",
      "metadata": {
        "id": "mQVGNneIFsgW",
        "colab_type": "code",
        "colab": {
          "base_uri": "https://localhost:8080/",
          "height": 185
        },
        "outputId": "e5930898-2ebf-4275-f414-7542a2057917"
      },
      "source": [
        "Y_train[:10]"
      ],
      "execution_count": 9,
      "outputs": [
        {
          "output_type": "execute_result",
          "data": {
            "text/plain": [
              "array([[0., 0., 0., 0., 0., 1., 0., 0., 0., 0.],\n",
              "       [1., 0., 0., 0., 0., 0., 0., 0., 0., 0.],\n",
              "       [0., 0., 0., 0., 1., 0., 0., 0., 0., 0.],\n",
              "       [0., 1., 0., 0., 0., 0., 0., 0., 0., 0.],\n",
              "       [0., 0., 0., 0., 0., 0., 0., 0., 0., 1.],\n",
              "       [0., 0., 1., 0., 0., 0., 0., 0., 0., 0.],\n",
              "       [0., 1., 0., 0., 0., 0., 0., 0., 0., 0.],\n",
              "       [0., 0., 0., 1., 0., 0., 0., 0., 0., 0.],\n",
              "       [0., 1., 0., 0., 0., 0., 0., 0., 0., 0.],\n",
              "       [0., 0., 0., 0., 1., 0., 0., 0., 0., 0.]], dtype=float32)"
            ]
          },
          "metadata": {
            "tags": []
          },
          "execution_count": 9
        }
      ]
    },
    {
      "cell_type": "markdown",
      "metadata": {
        "id": "o0_FeE29wQit",
        "colab_type": "text"
      },
      "source": [
        "Convolution Layer "
      ]
    },
    {
      "cell_type": "code",
      "metadata": {
        "id": "VpTsKTsDFv2x",
        "colab_type": "code",
        "colab": {
          "base_uri": "https://localhost:8080/",
          "height": 70
        },
        "outputId": "6103b6a2-4d3c-4b90-8d59-e2486c0103c8"
      },
      "source": [
        "from keras.layers import Activation\n",
        "model = Sequential()\n",
        "\n",
        " \n",
        "model.add(Convolution2D(32, 3, 3, activation='relu', input_shape=(28,28,1)))\n",
        "model.add(BatchNormalization())\n",
        "#model.add(Dropout(0.1))\n",
        "#model.add(MaxPooling2D(pool_size=(2,2)))\n",
        "model.add(Convolution2D(10, 1, activation='relu'))\n",
        "model.add(BatchNormalization())\n",
        "model.add(MaxPooling2D(pool_size=(2,2)))\n",
        "model.add(Dropout(0.1))\n",
        "\n",
        "model.add(Convolution2D(10, 13))\n",
        "model.add(Flatten())\n",
        "model.add(Activation('softmax'))"
      ],
      "execution_count": 26,
      "outputs": [
        {
          "output_type": "stream",
          "text": [
            "/usr/local/lib/python3.6/dist-packages/ipykernel_launcher.py:5: UserWarning: Update your `Conv2D` call to the Keras 2 API: `Conv2D(32, (3, 3), activation=\"relu\", input_shape=(28, 28, 1...)`\n",
            "  \"\"\"\n"
          ],
          "name": "stderr"
        }
      ]
    },
    {
      "cell_type": "markdown",
      "metadata": {
        "id": "zHn-0CLnwT_R",
        "colab_type": "text"
      },
      "source": [
        "printing the summary of the model"
      ]
    },
    {
      "cell_type": "code",
      "metadata": {
        "id": "tjnpAWdPFz5V",
        "colab_type": "code",
        "colab": {
          "base_uri": "https://localhost:8080/",
          "height": 437
        },
        "outputId": "d68ae028-56e0-4ff9-853b-3c140a21f47c"
      },
      "source": [
        "model.summary()"
      ],
      "execution_count": 41,
      "outputs": [
        {
          "output_type": "stream",
          "text": [
            "_________________________________________________________________\n",
            "Layer (type)                 Output Shape              Param #   \n",
            "=================================================================\n",
            "conv2d_7 (Conv2D)            (None, 26, 26, 32)        320       \n",
            "_________________________________________________________________\n",
            "batch_normalization_5 (Batch (None, 26, 26, 32)        128       \n",
            "_________________________________________________________________\n",
            "conv2d_8 (Conv2D)            (None, 26, 26, 10)        330       \n",
            "_________________________________________________________________\n",
            "batch_normalization_6 (Batch (None, 26, 26, 10)        40        \n",
            "_________________________________________________________________\n",
            "max_pooling2d_3 (MaxPooling2 (None, 13, 13, 10)        0         \n",
            "_________________________________________________________________\n",
            "dropout_3 (Dropout)          (None, 13, 13, 10)        0         \n",
            "_________________________________________________________________\n",
            "conv2d_9 (Conv2D)            (None, 1, 1, 10)          16910     \n",
            "_________________________________________________________________\n",
            "flatten_3 (Flatten)          (None, 10)                0         \n",
            "_________________________________________________________________\n",
            "activation_3 (Activation)    (None, 10)                0         \n",
            "=================================================================\n",
            "Total params: 17,728\n",
            "Trainable params: 17,644\n",
            "Non-trainable params: 84\n",
            "_________________________________________________________________\n"
          ],
          "name": "stdout"
        }
      ]
    },
    {
      "cell_type": "markdown",
      "metadata": {
        "id": "pUbqPSCoweIf",
        "colab_type": "text"
      },
      "source": [
        "defining the optimizer and learning rate"
      ]
    },
    {
      "cell_type": "code",
      "metadata": {
        "id": "C_-CO425KEtu",
        "colab_type": "code",
        "colab": {}
      },
      "source": [
        "sgd = optimizers.SGD(lr=0.009, decay=1e-6, momentum=0.9, nesterov=True)\n",
        "model.compile(loss='mean_squared_error', optimizer=sgd)"
      ],
      "execution_count": 0,
      "outputs": []
    },
    {
      "cell_type": "markdown",
      "metadata": {
        "id": "AxxCcQyBwlkV",
        "colab_type": "text"
      },
      "source": [
        "compiling the model"
      ]
    },
    {
      "cell_type": "code",
      "metadata": {
        "id": "cSOYCb7NF39U",
        "colab_type": "code",
        "colab": {}
      },
      "source": [
        "model.compile(loss='categorical_crossentropy',\n",
        "             optimizer='sgd',\n",
        "             metrics=['accuracy'])"
      ],
      "execution_count": 0,
      "outputs": []
    },
    {
      "cell_type": "markdown",
      "metadata": {
        "id": "Tg2ykeQEwoV9",
        "colab_type": "text"
      },
      "source": [
        "Model training "
      ]
    },
    {
      "cell_type": "code",
      "metadata": {
        "id": "UbItL3zGF6_a",
        "colab_type": "code",
        "colab": {
          "base_uri": "https://localhost:8080/",
          "height": 739
        },
        "outputId": "f38b87ba-b826-4422-9321-35552759b3b7"
      },
      "source": [
        "model.fit(X_train, Y_train, batch_size=16, nb_epoch=20, verbose=1)"
      ],
      "execution_count": 44,
      "outputs": [
        {
          "output_type": "stream",
          "text": [
            "/usr/local/lib/python3.6/dist-packages/ipykernel_launcher.py:1: UserWarning: The `nb_epoch` argument in `fit` has been renamed `epochs`.\n",
            "  \"\"\"Entry point for launching an IPython kernel.\n"
          ],
          "name": "stderr"
        },
        {
          "output_type": "stream",
          "text": [
            "Epoch 1/20\n",
            "60000/60000 [==============================] - 17s 279us/step - loss: 0.0146 - acc: 0.9951\n",
            "Epoch 2/20\n",
            "60000/60000 [==============================] - 17s 281us/step - loss: 0.0167 - acc: 0.9941\n",
            "Epoch 3/20\n",
            "60000/60000 [==============================] - 17s 284us/step - loss: 0.0160 - acc: 0.9940\n",
            "Epoch 4/20\n",
            "60000/60000 [==============================] - 16s 271us/step - loss: 0.0160 - acc: 0.9942\n",
            "Epoch 5/20\n",
            "60000/60000 [==============================] - 16s 272us/step - loss: 0.0167 - acc: 0.9943\n",
            "Epoch 6/20\n",
            "60000/60000 [==============================] - 16s 271us/step - loss: 0.0162 - acc: 0.9943\n",
            "Epoch 7/20\n",
            "60000/60000 [==============================] - 17s 284us/step - loss: 0.0157 - acc: 0.9947\n",
            "Epoch 8/20\n",
            "60000/60000 [==============================] - 17s 278us/step - loss: 0.0148 - acc: 0.9947\n",
            "Epoch 9/20\n",
            "60000/60000 [==============================] - 18s 299us/step - loss: 0.0128 - acc: 0.9954\n",
            "Epoch 10/20\n",
            "60000/60000 [==============================] - 16s 269us/step - loss: 0.0146 - acc: 0.9948\n",
            "Epoch 11/20\n",
            "60000/60000 [==============================] - 16s 271us/step - loss: 0.0139 - acc: 0.9952\n",
            "Epoch 12/20\n",
            "60000/60000 [==============================] - 18s 302us/step - loss: 0.0144 - acc: 0.9950\n",
            "Epoch 13/20\n",
            "60000/60000 [==============================] - 16s 270us/step - loss: 0.0136 - acc: 0.9952\n",
            "Epoch 14/20\n",
            "60000/60000 [==============================] - 16s 271us/step - loss: 0.0118 - acc: 0.9963\n",
            "Epoch 15/20\n",
            "60000/60000 [==============================] - 16s 270us/step - loss: 0.0127 - acc: 0.9954\n",
            "Epoch 16/20\n",
            "60000/60000 [==============================] - 16s 270us/step - loss: 0.0123 - acc: 0.9960\n",
            "Epoch 17/20\n",
            "60000/60000 [==============================] - 17s 289us/step - loss: 0.0124 - acc: 0.9958\n",
            "Epoch 18/20\n",
            "60000/60000 [==============================] - 16s 270us/step - loss: 0.0122 - acc: 0.9958\n",
            "Epoch 19/20\n",
            "60000/60000 [==============================] - 16s 269us/step - loss: 0.0116 - acc: 0.9958\n",
            "Epoch 20/20\n",
            "60000/60000 [==============================] - 16s 270us/step - loss: 0.0116 - acc: 0.9961\n"
          ],
          "name": "stdout"
        },
        {
          "output_type": "execute_result",
          "data": {
            "text/plain": [
              "<keras.callbacks.History at 0x7fcd20a8f668>"
            ]
          },
          "metadata": {
            "tags": []
          },
          "execution_count": 44
        }
      ]
    },
    {
      "cell_type": "code",
      "metadata": {
        "id": "B8eoU3QcGuq6",
        "colab_type": "code",
        "colab": {
          "base_uri": "https://localhost:8080/",
          "height": 1095
        },
        "outputId": "89010d38-9736-4d06-da12-5b25c663a8c2"
      },
      "source": [
        "model.fit(X_train, Y_train, batch_size=128, nb_epoch=30, verbose=1)"
      ],
      "execution_count": 45,
      "outputs": [
        {
          "output_type": "stream",
          "text": [
            "Epoch 1/30\n",
            " 3200/60000 [>.............................] - ETA: 3s - loss: 0.0111 - acc: 0.9969"
          ],
          "name": "stdout"
        },
        {
          "output_type": "stream",
          "text": [
            "/usr/local/lib/python3.6/dist-packages/ipykernel_launcher.py:1: UserWarning: The `nb_epoch` argument in `fit` has been renamed `epochs`.\n",
            "  \"\"\"Entry point for launching an IPython kernel.\n"
          ],
          "name": "stderr"
        },
        {
          "output_type": "stream",
          "text": [
            "60000/60000 [==============================] - 3s 45us/step - loss: 0.0085 - acc: 0.9973\n",
            "Epoch 2/30\n",
            "60000/60000 [==============================] - 3s 44us/step - loss: 0.0067 - acc: 0.9979\n",
            "Epoch 3/30\n",
            "60000/60000 [==============================] - 3s 44us/step - loss: 0.0059 - acc: 0.9981\n",
            "Epoch 4/30\n",
            "60000/60000 [==============================] - 3s 44us/step - loss: 0.0061 - acc: 0.9981\n",
            "Epoch 5/30\n",
            "60000/60000 [==============================] - 3s 44us/step - loss: 0.0055 - acc: 0.9984\n",
            "Epoch 6/30\n",
            "60000/60000 [==============================] - 3s 44us/step - loss: 0.0062 - acc: 0.9980\n",
            "Epoch 7/30\n",
            "60000/60000 [==============================] - 3s 44us/step - loss: 0.0053 - acc: 0.9985\n",
            "Epoch 8/30\n",
            "60000/60000 [==============================] - 3s 47us/step - loss: 0.0055 - acc: 0.9983\n",
            "Epoch 9/30\n",
            "60000/60000 [==============================] - 3s 48us/step - loss: 0.0053 - acc: 0.9983\n",
            "Epoch 10/30\n",
            "60000/60000 [==============================] - 3s 48us/step - loss: 0.0058 - acc: 0.9982\n",
            "Epoch 11/30\n",
            "60000/60000 [==============================] - 3s 47us/step - loss: 0.0053 - acc: 0.9983\n",
            "Epoch 12/30\n",
            "60000/60000 [==============================] - 3s 44us/step - loss: 0.0052 - acc: 0.9986\n",
            "Epoch 13/30\n",
            "60000/60000 [==============================] - 3s 44us/step - loss: 0.0054 - acc: 0.9984\n",
            "Epoch 14/30\n",
            "60000/60000 [==============================] - 3s 44us/step - loss: 0.0048 - acc: 0.9986\n",
            "Epoch 15/30\n",
            "60000/60000 [==============================] - 3s 44us/step - loss: 0.0050 - acc: 0.9983\n",
            "Epoch 16/30\n",
            "60000/60000 [==============================] - 3s 44us/step - loss: 0.0050 - acc: 0.9984\n",
            "Epoch 17/30\n",
            "60000/60000 [==============================] - 3s 44us/step - loss: 0.0049 - acc: 0.9985\n",
            "Epoch 18/30\n",
            "60000/60000 [==============================] - 3s 44us/step - loss: 0.0054 - acc: 0.9981\n",
            "Epoch 19/30\n",
            "60000/60000 [==============================] - 3s 44us/step - loss: 0.0045 - acc: 0.9986\n",
            "Epoch 20/30\n",
            "60000/60000 [==============================] - 3s 44us/step - loss: 0.0049 - acc: 0.9985\n",
            "Epoch 21/30\n",
            "60000/60000 [==============================] - 3s 44us/step - loss: 0.0053 - acc: 0.9982\n",
            "Epoch 22/30\n",
            "60000/60000 [==============================] - 3s 44us/step - loss: 0.0049 - acc: 0.9986\n",
            "Epoch 23/30\n",
            "60000/60000 [==============================] - 3s 44us/step - loss: 0.0050 - acc: 0.9984\n",
            "Epoch 24/30\n",
            "60000/60000 [==============================] - 3s 44us/step - loss: 0.0053 - acc: 0.9982\n",
            "Epoch 25/30\n",
            "60000/60000 [==============================] - 3s 44us/step - loss: 0.0047 - acc: 0.9985\n",
            "Epoch 26/30\n",
            "60000/60000 [==============================] - 3s 44us/step - loss: 0.0044 - acc: 0.9988\n",
            "Epoch 27/30\n",
            "60000/60000 [==============================] - 3s 44us/step - loss: 0.0049 - acc: 0.9987\n",
            "Epoch 28/30\n",
            "60000/60000 [==============================] - 3s 44us/step - loss: 0.0047 - acc: 0.9987\n",
            "Epoch 29/30\n",
            "60000/60000 [==============================] - 3s 44us/step - loss: 0.0047 - acc: 0.9986\n",
            "Epoch 30/30\n",
            "60000/60000 [==============================] - 3s 44us/step - loss: 0.0049 - acc: 0.9986\n"
          ],
          "name": "stdout"
        },
        {
          "output_type": "execute_result",
          "data": {
            "text/plain": [
              "<keras.callbacks.History at 0x7fcd201d53c8>"
            ]
          },
          "metadata": {
            "tags": []
          },
          "execution_count": 45
        }
      ]
    },
    {
      "cell_type": "code",
      "metadata": {
        "id": "4lcvQW96F_di",
        "colab_type": "code",
        "colab": {}
      },
      "source": [
        "score = model.evaluate(X_test, Y_test, verbose=0)"
      ],
      "execution_count": 0,
      "outputs": []
    },
    {
      "cell_type": "markdown",
      "metadata": {
        "id": "gaKitnRAwveA",
        "colab_type": "text"
      },
      "source": [
        "evaluation on the test set"
      ]
    },
    {
      "cell_type": "code",
      "metadata": {
        "id": "UsKKQVdsGB94",
        "colab_type": "code",
        "colab": {
          "base_uri": "https://localhost:8080/",
          "height": 34
        },
        "outputId": "c6a4098f-64d0-4b80-8726-43dfa089af76"
      },
      "source": [
        "print(score)"
      ],
      "execution_count": 53,
      "outputs": [
        {
          "output_type": "stream",
          "text": [
            "[0.05322760308523439, 0.9864]\n"
          ],
          "name": "stdout"
        }
      ]
    },
    {
      "cell_type": "code",
      "metadata": {
        "id": "XgovX0ezGEtP",
        "colab_type": "code",
        "colab": {}
      },
      "source": [
        "y_pred = model.predict(X_test)"
      ],
      "execution_count": 0,
      "outputs": []
    },
    {
      "cell_type": "code",
      "metadata": {
        "id": "OrQauRl6GIzt",
        "colab_type": "code",
        "colab": {
          "base_uri": "https://localhost:8080/",
          "height": 487
        },
        "outputId": "cf5db9c5-170c-455a-9ce9-e1b06ed04583"
      },
      "source": [
        "print(y_pred[:9])\n",
        "print(y_test[:9])"
      ],
      "execution_count": 49,
      "outputs": [
        {
          "output_type": "stream",
          "text": [
            "[[1.29987423e-16 1.52432151e-14 3.94099380e-12 2.23353960e-10\n",
            "  1.28022974e-23 1.98960602e-19 2.23329259e-25 1.00000000e+00\n",
            "  1.28760046e-16 1.31183093e-14]\n",
            " [3.14576108e-11 4.52591831e-09 9.99998569e-01 1.31595335e-15\n",
            "  7.35183653e-18 3.73478168e-17 1.44708054e-06 1.22289193e-18\n",
            "  3.08082065e-13 8.60734976e-16]\n",
            " [6.07494194e-11 9.99999762e-01 2.38697861e-09 3.18168538e-12\n",
            "  1.62397612e-07 8.32430125e-10 7.89172547e-11 8.02952655e-08\n",
            "  1.08418563e-08 1.06054391e-12]\n",
            " [1.00000000e+00 9.59074363e-17 1.22602941e-08 1.99189581e-15\n",
            "  1.23690885e-16 1.08459472e-13 1.24250370e-08 7.62151979e-14\n",
            "  2.12286514e-13 4.21249895e-13]\n",
            " [2.66379177e-13 9.32554950e-14 2.51442394e-13 3.59739495e-12\n",
            "  9.99999881e-01 2.55307165e-16 2.24696997e-13 8.24639357e-10\n",
            "  1.37088285e-10 1.30954291e-07]\n",
            " [4.09430267e-11 9.99995112e-01 1.32493649e-09 2.84434802e-13\n",
            "  3.47016709e-07 1.81902280e-12 1.88551398e-14 4.54551764e-06\n",
            "  4.61594363e-09 3.82034248e-12]\n",
            " [7.00277742e-25 1.80914948e-16 4.00441390e-16 7.60390940e-17\n",
            "  1.00000000e+00 1.95497661e-14 2.36921148e-21 1.04877187e-13\n",
            "  4.55284976e-10 1.24938462e-10]\n",
            " [4.10850371e-22 2.01693805e-13 6.23161633e-10 1.97806493e-11\n",
            "  2.60056758e-08 3.56008223e-09 2.36804042e-17 2.54105459e-10\n",
            "  4.75189267e-07 9.99999523e-01]\n",
            " [3.19467738e-12 9.36571319e-19 8.70324754e-13 3.27985577e-13\n",
            "  7.50551585e-13 9.81886864e-01 1.81042738e-02 1.17557201e-16\n",
            "  8.87863462e-06 6.29082231e-10]]\n",
            "[7 2 1 0 4 1 4 9 5]\n"
          ],
          "name": "stdout"
        }
      ]
    },
    {
      "cell_type": "code",
      "metadata": {
        "id": "rKfWh751GNZU",
        "colab_type": "code",
        "colab": {}
      },
      "source": [
        "layer_dict = dict([(layer.name, layer) for layer in model.layers])"
      ],
      "execution_count": 0,
      "outputs": []
    },
    {
      "cell_type": "markdown",
      "metadata": {
        "id": "whCIlMBmw3F5",
        "colab_type": "text"
      },
      "source": [
        "printing the output and saving the weights"
      ]
    },
    {
      "cell_type": "code",
      "metadata": {
        "id": "qz3XrDg2GRY-",
        "colab_type": "code",
        "colab": {
          "base_uri": "https://localhost:8080/",
          "height": 313
        },
        "outputId": "cc8f253a-b114-4164-f9f7-6d699826ba51"
      },
      "source": [
        "import numpy as np\n",
        "from matplotlib import pyplot as plt\n",
        "from keras import backend as K\n",
        "%matplotlib inline\n",
        "# util function to convert a tensor into a valid image\n",
        "def deprocess_image(x):\n",
        "    # normalize tensor: center on 0., ensure std is 0.1\n",
        "    x -= x.mean()\n",
        "    x /= (x.std() + 1e-5)\n",
        "    x *= 0.1\n",
        "\n",
        "    # clip to [0, 1]\n",
        "    x += 0.5\n",
        "    x = np.clip(x, 0, 1)\n",
        "\n",
        "    # convert to RGB array\n",
        "    x *= 255\n",
        "    #x = x.transpose((1, 2, 0))\n",
        "    x = np.clip(x, 0, 255).astype('uint8')\n",
        "    return x\n",
        "\n",
        "def vis_img_in_filter(img = np.array(X_train[2]).reshape((1, 28, 28, 1)).astype(np.float64), \n",
        "                      layer_name = 'conv2d_14'):\n",
        "    layer_output = layer_dict[layer_name].output\n",
        "    img_ascs = list()\n",
        "    for filter_index in range(layer_output.shape[3]):\n",
        "        # build a loss function that maximizes the activation\n",
        "        # of the nth filter of the layer considered\n",
        "        loss = K.mean(layer_output[:, :, :, filter_index])\n",
        "\n",
        "        # compute the gradient of the input picture wrt this loss\n",
        "        grads = K.gradients(loss, model.input)[0]\n",
        "\n",
        "        # normalization trick: we normalize the gradient\n",
        "        grads /= (K.sqrt(K.mean(K.square(grads))) + 1e-5)\n",
        "\n",
        "        # this function returns the loss and grads given the input picture\n",
        "        iterate = K.function([model.input], [loss, grads])\n",
        "\n",
        "        # step size for gradient ascent\n",
        "        step = 5.\n",
        "\n",
        "        img_asc = np.array(img)\n",
        "        # run gradient ascent for 20 steps\n",
        "        for i in range(20):\n",
        "            loss_value, grads_value = iterate([img_asc])\n",
        "            img_asc += grads_value * step\n",
        "\n",
        "        img_asc = img_asc[0]\n",
        "        img_ascs.append(deprocess_image(img_asc).reshape((28, 28)))\n",
        "        \n",
        "    if layer_output.shape[3] >= 35:\n",
        "        plot_x, plot_y = 6, 6\n",
        "    elif layer_output.shape[3] >= 23:\n",
        "        plot_x, plot_y = 4, 6\n",
        "    elif layer_output.shape[3] >= 11:\n",
        "        plot_x, plot_y = 2, 6\n",
        "    else:\n",
        "        plot_x, plot_y = 1, 2\n",
        "    fig, ax = plt.subplots(plot_x, plot_y, figsize = (12, 12))\n",
        "    ax[0, 0].imshow(img.reshape((28, 28)), cmap = 'gray')\n",
        "    ax[0, 0].set_title('Input image')\n",
        "    fig.suptitle('Input image and %s filters' % (layer_name,))\n",
        "    fig.tight_layout(pad = 0.3, rect = [0, 0, 0.9, 0.9])\n",
        "    for (x, y) in [(i, j) for i in range(plot_x) for j in range(plot_y)]:\n",
        "        if x == 0 and y == 0:\n",
        "            continue\n",
        "        ax[x, y].imshow(img_ascs[x * plot_y + y - 1], cmap = 'gray')\n",
        "        ax[x, y].set_title('filter %d' % (x * plot_y + y - 1))\n",
        "\n",
        "vis_img_in_filter()"
      ],
      "execution_count": 51,
      "outputs": [
        {
          "output_type": "error",
          "ename": "KeyError",
          "evalue": "ignored",
          "traceback": [
            "\u001b[0;31m---------------------------------------------------------------------------\u001b[0m",
            "\u001b[0;31mKeyError\u001b[0m                                  Traceback (most recent call last)",
            "\u001b[0;32m<ipython-input-51-19229f66b51a>\u001b[0m in \u001b[0;36m<module>\u001b[0;34m()\u001b[0m\n\u001b[1;32m     69\u001b[0m         \u001b[0max\u001b[0m\u001b[0;34m[\u001b[0m\u001b[0mx\u001b[0m\u001b[0;34m,\u001b[0m \u001b[0my\u001b[0m\u001b[0;34m]\u001b[0m\u001b[0;34m.\u001b[0m\u001b[0mset_title\u001b[0m\u001b[0;34m(\u001b[0m\u001b[0;34m'filter %d'\u001b[0m \u001b[0;34m%\u001b[0m \u001b[0;34m(\u001b[0m\u001b[0mx\u001b[0m \u001b[0;34m*\u001b[0m \u001b[0mplot_y\u001b[0m \u001b[0;34m+\u001b[0m \u001b[0my\u001b[0m \u001b[0;34m-\u001b[0m \u001b[0;36m1\u001b[0m\u001b[0;34m)\u001b[0m\u001b[0;34m)\u001b[0m\u001b[0;34m\u001b[0m\u001b[0;34m\u001b[0m\u001b[0m\n\u001b[1;32m     70\u001b[0m \u001b[0;34m\u001b[0m\u001b[0m\n\u001b[0;32m---> 71\u001b[0;31m \u001b[0mvis_img_in_filter\u001b[0m\u001b[0;34m(\u001b[0m\u001b[0;34m)\u001b[0m\u001b[0;34m\u001b[0m\u001b[0;34m\u001b[0m\u001b[0m\n\u001b[0m",
            "\u001b[0;32m<ipython-input-51-19229f66b51a>\u001b[0m in \u001b[0;36mvis_img_in_filter\u001b[0;34m(img, layer_name)\u001b[0m\n\u001b[1;32m     22\u001b[0m def vis_img_in_filter(img = np.array(X_train[2]).reshape((1, 28, 28, 1)).astype(np.float64), \n\u001b[1;32m     23\u001b[0m                       layer_name = 'conv2d_14'):\n\u001b[0;32m---> 24\u001b[0;31m     \u001b[0mlayer_output\u001b[0m \u001b[0;34m=\u001b[0m \u001b[0mlayer_dict\u001b[0m\u001b[0;34m[\u001b[0m\u001b[0mlayer_name\u001b[0m\u001b[0;34m]\u001b[0m\u001b[0;34m.\u001b[0m\u001b[0moutput\u001b[0m\u001b[0;34m\u001b[0m\u001b[0;34m\u001b[0m\u001b[0m\n\u001b[0m\u001b[1;32m     25\u001b[0m     \u001b[0mimg_ascs\u001b[0m \u001b[0;34m=\u001b[0m \u001b[0mlist\u001b[0m\u001b[0;34m(\u001b[0m\u001b[0;34m)\u001b[0m\u001b[0;34m\u001b[0m\u001b[0;34m\u001b[0m\u001b[0m\n\u001b[1;32m     26\u001b[0m     \u001b[0;32mfor\u001b[0m \u001b[0mfilter_index\u001b[0m \u001b[0;32min\u001b[0m \u001b[0mrange\u001b[0m\u001b[0;34m(\u001b[0m\u001b[0mlayer_output\u001b[0m\u001b[0;34m.\u001b[0m\u001b[0mshape\u001b[0m\u001b[0;34m[\u001b[0m\u001b[0;36m3\u001b[0m\u001b[0;34m]\u001b[0m\u001b[0;34m)\u001b[0m\u001b[0;34m:\u001b[0m\u001b[0;34m\u001b[0m\u001b[0;34m\u001b[0m\u001b[0m\n",
            "\u001b[0;31mKeyError\u001b[0m: 'conv2d_14'"
          ]
        }
      ]
    }
  ]
}