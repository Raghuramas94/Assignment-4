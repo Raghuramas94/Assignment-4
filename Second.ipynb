{
  "nbformat": 4,
  "nbformat_minor": 0,
  "metadata": {
    "colab": {
      "name": "Second",
      "version": "0.3.2",
      "provenance": [],
      "include_colab_link": true
    },
    "kernelspec": {
      "name": "python3",
      "display_name": "Python 3"
    },
    "accelerator": "GPU"
  },
  "cells": [
    {
      "cell_type": "markdown",
      "metadata": {
        "id": "view-in-github",
        "colab_type": "text"
      },
      "source": [
        "<a href=\"https://colab.research.google.com/github/Raghuramas94/PROJECT-1/blob/master/Second.ipynb\" target=\"_parent\"><img src=\"https://colab.research.google.com/assets/colab-badge.svg\" alt=\"Open In Colab\"/></a>"
      ]
    },
    {
      "cell_type": "code",
      "metadata": {
        "id": "FUPZdVdp-hAK",
        "colab_type": "code",
        "colab": {}
      },
      "source": [
        "# https://keras.io/\n",
        "!pip install -q keras\n",
        "import keras"
      ],
      "execution_count": 0,
      "outputs": []
    },
    {
      "cell_type": "code",
      "metadata": {
        "id": "ZHB768mb-oVO",
        "colab_type": "code",
        "colab": {}
      },
      "source": [
        "import numpy as np\n",
        "\n",
        "from keras.models import Sequential\n",
        "from keras.layers import Dense, Dropout, Activation, Flatten, Add, BatchNormalization\n",
        "from keras.layers import Convolution2D, MaxPooling2D\n",
        "from keras.utils import np_utils\n",
        "\n",
        "from keras.datasets import mnist"
      ],
      "execution_count": 0,
      "outputs": []
    },
    {
      "cell_type": "code",
      "metadata": {
        "id": "i2esPXNH-uS5",
        "colab_type": "code",
        "colab": {}
      },
      "source": [
        "(X_train, y_train), (X_test, y_test) = mnist.load_data()"
      ],
      "execution_count": 0,
      "outputs": []
    },
    {
      "cell_type": "code",
      "metadata": {
        "id": "Rvn4eTQW-u_9",
        "colab_type": "code",
        "outputId": "c717b99c-1fae-4b47-8408-f3af3a3072fd",
        "colab": {
          "base_uri": "https://localhost:8080/",
          "height": 302
        }
      },
      "source": [
        "print (X_train.shape)\n",
        "from matplotlib import pyplot as plt\n",
        "%matplotlib inline\n",
        "plt.imshow(X_train[0])"
      ],
      "execution_count": 0,
      "outputs": [
        {
          "output_type": "stream",
          "text": [
            "(60000, 28, 28)\n"
          ],
          "name": "stdout"
        },
        {
          "output_type": "execute_result",
          "data": {
            "text/plain": [
              "<matplotlib.image.AxesImage at 0x7f56dccc0eb8>"
            ]
          },
          "metadata": {
            "tags": []
          },
          "execution_count": 52
        },
        {
          "output_type": "display_data",
          "data": {
            "image/png": "[encoded data removed]",
            "text/plain": [
              "<Figure size 432x288 with 1 Axes>"
            ]
          },
          "metadata": {
            "tags": []
          }
        }
      ]
    },
    {
      "cell_type": "code",
      "metadata": {
        "id": "qUstT1UE-zQ5",
        "colab_type": "code",
        "colab": {}
      },
      "source": [
        "X_train = X_train.reshape(X_train.shape[0], 28, 28,1)\n",
        "X_test = X_test.reshape(X_test.shape[0], 28, 28,1)"
      ],
      "execution_count": 0,
      "outputs": []
    },
    {
      "cell_type": "code",
      "metadata": {
        "id": "Ypu1fvVP-4BN",
        "colab_type": "code",
        "colab": {}
      },
      "source": [
        "X_train = X_train.astype('float32')\n",
        "X_test = X_test.astype('float32')\n",
        "X_train /= 255\n",
        "X_test /= 255"
      ],
      "execution_count": 0,
      "outputs": []
    },
    {
      "cell_type": "code",
      "metadata": {
        "id": "w9Ke0_JQ-7Ch",
        "colab_type": "code",
        "outputId": "e8e510cd-ee09-451c-c6f2-1edf46901987",
        "colab": {
          "base_uri": "https://localhost:8080/",
          "height": 34
        }
      },
      "source": [
        "y_train[:10]"
      ],
      "execution_count": 0,
      "outputs": [
        {
          "output_type": "execute_result",
          "data": {
            "text/plain": [
              "array([5, 0, 4, 1, 9, 2, 1, 3, 1, 4], dtype=uint8)"
            ]
          },
          "metadata": {
            "tags": []
          },
          "execution_count": 55
        }
      ]
    },
    {
      "cell_type": "code",
      "metadata": {
        "id": "XmFDDVzZ--Vr",
        "colab_type": "code",
        "colab": {}
      },
      "source": [
        "# Convert 1-dimensional class arrays to 10-dimensional class matrices\n",
        "Y_train = np_utils.to_categorical(y_train, 10)\n",
        "Y_test = np_utils.to_categorical(y_test, 10)"
      ],
      "execution_count": 0,
      "outputs": []
    },
    {
      "cell_type": "code",
      "metadata": {
        "id": "Q-2tkR3w_Bzi",
        "colab_type": "code",
        "outputId": "039a1093-c4e6-457b-c127-0f25be840074",
        "colab": {
          "base_uri": "https://localhost:8080/",
          "height": 185
        }
      },
      "source": [
        "Y_train[:10]"
      ],
      "execution_count": 0,
      "outputs": [
        {
          "output_type": "execute_result",
          "data": {
            "text/plain": [
              "array([[0., 0., 0., 0., 0., 1., 0., 0., 0., 0.],\n",
              "       [1., 0., 0., 0., 0., 0., 0., 0., 0., 0.],\n",
              "       [0., 0., 0., 0., 1., 0., 0., 0., 0., 0.],\n",
              "       [0., 1., 0., 0., 0., 0., 0., 0., 0., 0.],\n",
              "       [0., 0., 0., 0., 0., 0., 0., 0., 0., 1.],\n",
              "       [0., 0., 1., 0., 0., 0., 0., 0., 0., 0.],\n",
              "       [0., 1., 0., 0., 0., 0., 0., 0., 0., 0.],\n",
              "       [0., 0., 0., 1., 0., 0., 0., 0., 0., 0.],\n",
              "       [0., 1., 0., 0., 0., 0., 0., 0., 0., 0.],\n",
              "       [0., 0., 0., 0., 1., 0., 0., 0., 0., 0.]], dtype=float32)"
            ]
          },
          "metadata": {
            "tags": []
          },
          "execution_count": 57
        }
      ]
    },
    {
      "cell_type": "code",
      "metadata": {
        "id": "FZ1SgVB4_GLv",
        "colab_type": "code",
        "outputId": "0286298d-4bc8-403b-8cb1-51c4018d0fc6",
        "colab": {
          "base_uri": "https://localhost:8080/",
          "height": 188
        }
      },
      "source": [
        "from keras.layers import Activation\n",
        "model = Sequential()\n",
        " \n",
        "model.add(Convolution2D(20, 3, 3, activation='relu', input_shape=(28,28,1))) # 26\n",
        "model.add(BatchNormalization())\n",
        "\n",
        "model.add(Convolution2D(15, 3, 3, activation='relu')) # 24\n",
        "model.add(BatchNormalization())\n",
        "\n",
        "model.add(Convolution2D(10, 3, 3, activation='relu')) # 22\n",
        "model.add(BatchNormalization())\n",
        "\n",
        "\n",
        "model.add(MaxPooling2D(pool_size=(2, 2))) # 11\n",
        "model.add(Convolution2D(20, 3, 3, activation='relu')) # 9\n",
        "\n",
        "#model.add(MaxPooling2D(pool_size=(2, 2))) # 10\n",
        "\n",
        "model.add(Convolution2D(15, 3, 3, activation='relu')) # 9\n",
        "model.add(BatchNormalization())\n",
        "\n",
        "model.add(Convolution2D(10, 1, activation='relu')) #9\n",
        "model.add(BatchNormalization())\n",
        "\n",
        "model.add(Convolution2D(10, 7))\n",
        "model.add(Flatten())\n",
        "model.add(Activation('softmax'))"
      ],
      "execution_count": 0,
      "outputs": [
        {
          "output_type": "stream",
          "text": [
            "/usr/local/lib/python3.6/dist-packages/ipykernel_launcher.py:4: UserWarning: Update your `Conv2D` call to the Keras 2 API: `Conv2D(20, (3, 3), activation=\"relu\", input_shape=(28, 28, 1...)`\n",
            "  after removing the cwd from sys.path.\n",
            "/usr/local/lib/python3.6/dist-packages/ipykernel_launcher.py:7: UserWarning: Update your `Conv2D` call to the Keras 2 API: `Conv2D(15, (3, 3), activation=\"relu\")`\n",
            "  import sys\n",
            "/usr/local/lib/python3.6/dist-packages/ipykernel_launcher.py:10: UserWarning: Update your `Conv2D` call to the Keras 2 API: `Conv2D(10, (3, 3), activation=\"relu\")`\n",
            "  # Remove the CWD from sys.path while we load stuff.\n",
            "/usr/local/lib/python3.6/dist-packages/ipykernel_launcher.py:15: UserWarning: Update your `Conv2D` call to the Keras 2 API: `Conv2D(20, (3, 3), activation=\"relu\")`\n",
            "  from ipykernel import kernelapp as app\n",
            "/usr/local/lib/python3.6/dist-packages/ipykernel_launcher.py:19: UserWarning: Update your `Conv2D` call to the Keras 2 API: `Conv2D(15, (3, 3), activation=\"relu\")`\n"
          ],
          "name": "stderr"
        }
      ]
    },
    {
      "cell_type": "code",
      "metadata": {
        "id": "pSDCGK6Z_PNF",
        "colab_type": "code",
        "outputId": "15f0ee9f-4dc3-4f12-db80-d02ac7749bd9",
        "colab": {
          "base_uri": "https://localhost:8080/",
          "height": 638
        }
      },
      "source": [
        "model.summary()"
      ],
      "execution_count": 0,
      "outputs": [
        {
          "output_type": "stream",
          "text": [
            "_________________________________________________________________\n",
            "Layer (type)                 Output Shape              Param #   \n",
            "=================================================================\n",
            "conv2d_16 (Conv2D)           (None, 26, 26, 20)        200       \n",
            "_________________________________________________________________\n",
            "batch_normalization_6 (Batch (None, 26, 26, 20)        80        \n",
            "_________________________________________________________________\n",
            "conv2d_17 (Conv2D)           (None, 24, 24, 15)        2715      \n",
            "_________________________________________________________________\n",
            "batch_normalization_7 (Batch (None, 24, 24, 15)        60        \n",
            "_________________________________________________________________\n",
            "conv2d_18 (Conv2D)           (None, 22, 22, 10)        1360      \n",
            "_________________________________________________________________\n",
            "batch_normalization_8 (Batch (None, 22, 22, 10)        40        \n",
            "_________________________________________________________________\n",
            "max_pooling2d_3 (MaxPooling2 (None, 11, 11, 10)        0         \n",
            "_________________________________________________________________\n",
            "conv2d_19 (Conv2D)           (None, 9, 9, 20)          1820      \n",
            "_________________________________________________________________\n",
            "conv2d_20 (Conv2D)           (None, 7, 7, 15)          2715      \n",
            "_________________________________________________________________\n",
            "batch_normalization_9 (Batch (None, 7, 7, 15)          60        \n",
            "_________________________________________________________________\n",
            "conv2d_21 (Conv2D)           (None, 7, 7, 10)          160       \n",
            "_________________________________________________________________\n",
            "batch_normalization_10 (Batc (None, 7, 7, 10)          40        \n",
            "_________________________________________________________________\n",
            "conv2d_22 (Conv2D)           (None, 1, 1, 10)          4910      \n",
            "_________________________________________________________________\n",
            "flatten_3 (Flatten)          (None, 10)                0         \n",
            "_________________________________________________________________\n",
            "activation_3 (Activation)    (None, 10)                0         \n",
            "=================================================================\n",
            "Total params: 14,160\n",
            "Trainable params: 14,020\n",
            "Non-trainable params: 140\n",
            "_________________________________________________________________\n"
          ],
          "name": "stdout"
        }
      ]
    },
    {
      "cell_type": "code",
      "metadata": {
        "id": "BybWFNJ-_RNG",
        "colab_type": "code",
        "colab": {}
      },
      "source": [
        "model.compile(loss='categorical_crossentropy',\n",
        "             optimizer='adam',\n",
        "             metrics=['accuracy'])"
      ],
      "execution_count": 0,
      "outputs": []
    },
    {
      "cell_type": "code",
      "metadata": {
        "id": "fNy0hfdF_Yix",
        "colab_type": "code",
        "outputId": "972210b8-2ccc-4ac3-a5b6-c77290376463",
        "colab": {
          "base_uri": "https://localhost:8080/",
          "height": 403
        }
      },
      "source": [
        "model.fit(X_train, Y_train, batch_size=32, nb_epoch=10, verbose=1)"
      ],
      "execution_count": 0,
      "outputs": [
        {
          "output_type": "stream",
          "text": [
            "/usr/local/lib/python3.6/dist-packages/ipykernel_launcher.py:1: UserWarning: The `nb_epoch` argument in `fit` has been renamed `epochs`.\n",
            "  \"\"\"Entry point for launching an IPython kernel.\n"
          ],
          "name": "stderr"
        },
        {
          "output_type": "stream",
          "text": [
            "Epoch 1/10\n",
            "60000/60000 [==============================] - 18s 305us/step - loss: 0.1331 - acc: 0.9596\n",
            "Epoch 2/10\n",
            "60000/60000 [==============================] - 17s 284us/step - loss: 0.0489 - acc: 0.9846\n",
            "Epoch 3/10\n",
            "60000/60000 [==============================] - 17s 290us/step - loss: 0.0384 - acc: 0.9879\n",
            "Epoch 4/10\n",
            "60000/60000 [==============================] - 17s 289us/step - loss: 0.0324 - acc: 0.9895\n",
            "Epoch 5/10\n",
            "60000/60000 [==============================] - 17s 287us/step - loss: 0.0278 - acc: 0.9908\n",
            "Epoch 6/10\n",
            "60000/60000 [==============================] - 18s 301us/step - loss: 0.0233 - acc: 0.9924\n",
            "Epoch 7/10\n",
            "60000/60000 [==============================] - 18s 295us/step - loss: 0.0217 - acc: 0.9929\n",
            "Epoch 8/10\n",
            "60000/60000 [==============================] - 18s 294us/step - loss: 0.0190 - acc: 0.9935\n",
            "Epoch 9/10\n",
            "60000/60000 [==============================] - 19s 312us/step - loss: 0.0163 - acc: 0.9947\n",
            "Epoch 10/10\n",
            "60000/60000 [==============================] - 18s 293us/step - loss: 0.0155 - acc: 0.9950\n"
          ],
          "name": "stdout"
        },
        {
          "output_type": "execute_result",
          "data": {
            "text/plain": [
              "<keras.callbacks.History at 0x7f56dccc9320>"
            ]
          },
          "metadata": {
            "tags": []
          },
          "execution_count": 61
        }
      ]
    },
    {
      "cell_type": "code",
      "metadata": {
        "id": "QIcc9NiVS4_6",
        "colab_type": "code",
        "outputId": "e64bdcce-a570-41c8-a9a8-2b3dce445233",
        "colab": {
          "base_uri": "https://localhost:8080/",
          "height": 1277
        }
      },
      "source": [
        "model.fit(X_train, Y_train, batch_size=32, nb_epoch=20, verbose=1)"
      ],
      "execution_count": 0,
      "outputs": [
        {
          "output_type": "stream",
          "text": [
            "60000/60000 [==============================] - 18s 305us/step - loss: 0.0132 - acc: 0.9957\n",
            "60000/60000 [==============================] - 18s 305us/step - loss: 0.0132 - acc: 0.9957\n",
            "Epoch 3/20\n",
            "   32/60000 [..............................] - ETA: 28s - loss: 0.0142 - acc: 1.0000Epoch 3/20\n",
            "60000/60000 [==============================] - 19s 309us/step - loss: 0.0122 - acc: 0.9956\n",
            "60000/60000 [==============================] - 19s 309us/step - loss: 0.0122 - acc: 0.9956\n",
            "Epoch 4/20\n",
            "   32/60000 [..............................] - ETA: 32s - loss: 4.0474e-04 - acc: 1.0000Epoch 4/20\n",
            "60000/60000 [==============================] - 18s 300us/step - loss: 0.0108 - acc: 0.9961\n",
            "60000/60000 [==============================] - 18s 300us/step - loss: 0.0108 - acc: 0.9961\n",
            "Epoch 5/20\n",
            "   32/60000 [..............................] - ETA: 28s - loss: 0.0035 - acc: 1.0000Epoch 5/20\n",
            "60000/60000 [==============================] - 18s 299us/step - loss: 0.0100 - acc: 0.9969\n",
            "60000/60000 [==============================] - 18s 299us/step - loss: 0.0100 - acc: 0.9969\n",
            "Epoch 6/20\n",
            "   32/60000 [..............................] - ETA: 28s - loss: 5.0770e-05 - acc: 1.0000Epoch 6/20\n",
            "60000/60000 [==============================] - 19s 311us/step - loss: 0.0083 - acc: 0.9971\n",
            "60000/60000 [==============================] - 19s 311us/step - loss: 0.0083 - acc: 0.9971\n",
            "Epoch 7/20\n",
            "   32/60000 [..............................] - ETA: 29s - loss: 3.2555e-04 - acc: 1.0000Epoch 7/20\n",
            "60000/60000 [==============================] - 18s 297us/step - loss: 0.0094 - acc: 0.9968\n",
            "60000/60000 [==============================] - 18s 297us/step - loss: 0.0094 - acc: 0.9968\n",
            "Epoch 8/20\n",
            "   32/60000 [..............................] - ETA: 29s - loss: 1.2039e-04 - acc: 1.0000Epoch 8/20\n",
            "60000/60000 [==============================] - 19s 316us/step - loss: 0.0075 - acc: 0.9976\n",
            "60000/60000 [==============================] - 19s 316us/step - loss: 0.0075 - acc: 0.9976\n",
            "Epoch 9/20\n",
            "Epoch 9/20\n",
            "60000/60000 [==============================] - 17s 288us/step - loss: 0.0071 - acc: 0.9975\n",
            "60000/60000 [==============================] - 17s 288us/step - loss: 0.0071 - acc: 0.9975\n",
            "Epoch 10/20\n",
            "   32/60000 [..............................] - ETA: 30s - loss: 1.0212e-05 - acc: 1.0000Epoch 10/20\n",
            "60000/60000 [==============================] - 18s 296us/step - loss: 0.0070 - acc: 0.9976\n",
            "60000/60000 [==============================] - 18s 296us/step - loss: 0.0070 - acc: 0.9976\n",
            "Epoch 11/20Epoch 11/20\n",
            "   32/60000 [..............................] - ETA: 37s - loss: 8.7720e-05 - acc: 1.0000\n",
            "60000/60000 [==============================] - 18s 295us/step - loss: 0.0068 - acc: 0.9977\n",
            "60000/60000 [==============================] - 18s 295us/step - loss: 0.0068 - acc: 0.9977\n",
            "Epoch 12/20\n",
            "   32/60000 [..............................] - ETA: 29s - loss: 5.1541e-05 - acc: 1.0000Epoch 12/20\n",
            "60000/60000 [==============================] - 19s 318us/step - loss: 0.0058 - acc: 0.9980\n",
            "60000/60000 [==============================] - 19s 318us/step - loss: 0.0058 - acc: 0.9980\n",
            "Epoch 13/20Epoch 13/20\n",
            "   32/60000 [..............................] - ETA: 36s - loss: 1.3821e-06 - acc: 1.0000\n",
            "60000/60000 [==============================] - 18s 299us/step - loss: 0.0068 - acc: 0.9977\n",
            "60000/60000 [==============================] - 18s 299us/step - loss: 0.0068 - acc: 0.9977\n",
            "Epoch 14/20\n",
            "   32/60000 [..............................] - ETA: 22s - loss: 2.5020e-05 - acc: 1.0000Epoch 14/20\n",
            "60000/60000 [==============================] - 18s 301us/step - loss: 0.0058 - acc: 0.9980\n",
            "60000/60000 [==============================] - 18s 301us/step - loss: 0.0058 - acc: 0.9980\n",
            "Epoch 15/20\n",
            "   32/60000 [..............................] - ETA: 46s - loss: 0.0094 - acc: 1.0000Epoch 15/20\n",
            "60000/60000 [==============================] - 18s 299us/step - loss: 0.0059 - acc: 0.9978\n",
            "60000/60000 [==============================] - 18s 299us/step - loss: 0.0059 - acc: 0.9978\n",
            "Epoch 16/20\n",
            "Epoch 16/20\n",
            "60000/60000 [==============================] - 18s 295us/step - loss: 0.0053 - acc: 0.9981\n",
            "60000/60000 [==============================] - 18s 295us/step - loss: 0.0053 - acc: 0.9981\n",
            "Epoch 17/20\n",
            "   32/60000 [..............................] - ETA: 24s - loss: 8.5872e-06 - acc: 1.0000Epoch 17/20\n",
            "60000/60000 [==============================] - 18s 303us/step - loss: 0.0059 - acc: 0.9979\n",
            "60000/60000 [==============================] - 18s 303us/step - loss: 0.0059 - acc: 0.9979\n",
            "Epoch 18/20\n",
            "   32/60000 [..............................] - ETA: 23s - loss: 2.6806e-04 - acc: 1.0000Epoch 18/20\n",
            "60000/60000 [==============================] - 19s 310us/step - loss: 0.0053 - acc: 0.9983\n",
            "60000/60000 [==============================] - 19s 310us/step - loss: 0.0053 - acc: 0.9983\n",
            "Epoch 19/20\n",
            "Epoch 19/20\n",
            "60000/60000 [==============================] - 17s 290us/step - loss: 0.0056 - acc: 0.9981\n",
            "60000/60000 [==============================] - 17s 290us/step - loss: 0.0056 - acc: 0.9981\n",
            "Epoch 20/20\n",
            "   32/60000 [..............................] - ETA: 23s - loss: 1.8147e-04 - acc: 1.0000Epoch 20/20\n",
            "60000/60000 [==============================] - 17s 284us/step - loss: 0.0038 - acc: 0.9987\n",
            "60000/60000 [==============================] - 17s 284us/step - loss: 0.0038 - acc: 0.9987\n"
          ],
          "name": "stdout"
        },
        {
          "output_type": "execute_result",
          "data": {
            "text/plain": [
              "<keras.callbacks.History at 0x7f57003faf28>"
            ]
          },
          "metadata": {
            "tags": []
          },
          "execution_count": 62
        },
        {
          "output_type": "execute_result",
          "data": {
            "text/plain": [
              "<keras.callbacks.History at 0x7f57003faf28>"
            ]
          },
          "metadata": {
            "tags": []
          },
          "execution_count": 62
        }
      ]
    },
    {
      "cell_type": "code",
      "metadata": {
        "id": "J92Ur7ho_f1G",
        "colab_type": "code",
        "colab": {}
      },
      "source": [
        "score = model.evaluate(X_test, Y_test, verbose=0)"
      ],
      "execution_count": 0,
      "outputs": []
    },
    {
      "cell_type": "code",
      "metadata": {
        "id": "oE2aD1kC_g0b",
        "colab_type": "code",
        "outputId": "7f36667d-8109-42be-f402-ae9e870f8cdb",
        "colab": {
          "base_uri": "https://localhost:8080/",
          "height": 50
        }
      },
      "source": [
        "print(score)"
      ],
      "execution_count": 0,
      "outputs": [
        {
          "output_type": "stream",
          "text": [
            "[0.034642029773580295, 0.9916]\n",
            "[0.034642029773580295, 0.9916]\n"
          ],
          "name": "stdout"
        }
      ]
    },
    {
      "cell_type": "code",
      "metadata": {
        "id": "3D8xeR3s_mat",
        "colab_type": "code",
        "colab": {}
      },
      "source": [
        "y_pred = model.predict(X_test)"
      ],
      "execution_count": 0,
      "outputs": []
    },
    {
      "cell_type": "code",
      "metadata": {
        "id": "TMurKeyB_nA2",
        "colab_type": "code",
        "outputId": "55fba70c-9c8a-4a16-b8f8-484358527a2c",
        "colab": {
          "base_uri": "https://localhost:8080/",
          "height": 958
        }
      },
      "source": [
        "print(y_pred[:9])\n",
        "print(y_test[:9])"
      ],
      "execution_count": 0,
      "outputs": [
        {
          "output_type": "stream",
          "text": [
            "[[2.10431452e-19 4.54350167e-16 1.48198606e-11 1.34874657e-14\n",
            "  1.59903499e-19 4.72377968e-21 8.97861662e-25 1.00000000e+00\n",
            "  1.20775181e-19 4.70248230e-14]\n",
            " [6.65932750e-16 7.66464529e-13 1.00000000e+00 2.55739973e-16\n",
            "  3.04770925e-17 5.59650086e-22 5.14389353e-14 8.76224688e-22\n",
            "  6.84007992e-20 6.02293921e-20]\n",
            " [3.12168381e-11 1.00000000e+00 4.84401177e-08 3.74255104e-14\n",
            "  7.09671211e-10 2.24495908e-11 3.89717703e-11 2.22047693e-11\n",
            "  1.91197478e-14 1.79598610e-11]\n",
            " [9.99997973e-01 1.53877458e-15 2.15588813e-09 9.49654765e-12\n",
            "  7.44740380e-12 2.56056391e-11 1.85998408e-06 3.86361570e-13\n",
            "  1.55633959e-08 1.11967147e-07]\n",
            " [1.84884846e-15 1.05838255e-11 4.29157035e-13 7.39414847e-18\n",
            "  1.00000000e+00 1.81361930e-17 3.49058254e-15 8.73667814e-15\n",
            "  1.87580677e-13 1.71634332e-10]\n",
            " [1.11009795e-11 9.99999881e-01 9.78119630e-08 1.19596618e-16\n",
            "  6.31310115e-10 1.48335374e-16 1.66085299e-12 1.09230713e-09\n",
            "  2.95428194e-15 3.27170201e-11]\n",
            " [1.42370555e-23 7.58660956e-09 4.17223493e-13 4.95236278e-14\n",
            "  9.99999285e-01 1.77145675e-17 7.27514861e-18 4.34128563e-13\n",
            "  6.67473330e-07 5.37998126e-08]\n",
            " [3.91536002e-22 2.09290922e-18 4.76278520e-17 6.31609506e-17\n",
            "  3.15268039e-06 3.27497994e-20 1.54959939e-23 9.97129049e-15\n",
            "  1.40715784e-16 9.99996901e-01]\n",
            " [3.98524866e-18 3.89675820e-21 2.28798930e-15 3.10773572e-15\n",
            "  2.50457074e-20 9.92538273e-01 7.46166008e-03 5.91861894e-19\n",
            "  3.87175665e-12 3.14054546e-11]]\n",
            "[7 2 1 0 4 1 4 9 5]\n",
            "[[2.10431452e-19 4.54350167e-16 1.48198606e-11 1.34874657e-14\n",
            "  1.59903499e-19 4.72377968e-21 8.97861662e-25 1.00000000e+00\n",
            "  1.20775181e-19 4.70248230e-14]\n",
            " [6.65932750e-16 7.66464529e-13 1.00000000e+00 2.55739973e-16\n",
            "  3.04770925e-17 5.59650086e-22 5.14389353e-14 8.76224688e-22\n",
            "  6.84007992e-20 6.02293921e-20]\n",
            " [3.12168381e-11 1.00000000e+00 4.84401177e-08 3.74255104e-14\n",
            "  7.09671211e-10 2.24495908e-11 3.89717703e-11 2.22047693e-11\n",
            "  1.91197478e-14 1.79598610e-11]\n",
            " [9.99997973e-01 1.53877458e-15 2.15588813e-09 9.49654765e-12\n",
            "  7.44740380e-12 2.56056391e-11 1.85998408e-06 3.86361570e-13\n",
            "  1.55633959e-08 1.11967147e-07]\n",
            " [1.84884846e-15 1.05838255e-11 4.29157035e-13 7.39414847e-18\n",
            "  1.00000000e+00 1.81361930e-17 3.49058254e-15 8.73667814e-15\n",
            "  1.87580677e-13 1.71634332e-10]\n",
            " [1.11009795e-11 9.99999881e-01 9.78119630e-08 1.19596618e-16\n",
            "  6.31310115e-10 1.48335374e-16 1.66085299e-12 1.09230713e-09\n",
            "  2.95428194e-15 3.27170201e-11]\n",
            " [1.42370555e-23 7.58660956e-09 4.17223493e-13 4.95236278e-14\n",
            "  9.99999285e-01 1.77145675e-17 7.27514861e-18 4.34128563e-13\n",
            "  6.67473330e-07 5.37998126e-08]\n",
            " [3.91536002e-22 2.09290922e-18 4.76278520e-17 6.31609506e-17\n",
            "  3.15268039e-06 3.27497994e-20 1.54959939e-23 9.97129049e-15\n",
            "  1.40715784e-16 9.99996901e-01]\n",
            " [3.98524866e-18 3.89675820e-21 2.28798930e-15 3.10773572e-15\n",
            "  2.50457074e-20 9.92538273e-01 7.46166008e-03 5.91861894e-19\n",
            "  3.87175665e-12 3.14054546e-11]]\n",
            "[7 2 1 0 4 1 4 9 5]\n"
          ],
          "name": "stdout"
        }
      ]
    },
    {
      "cell_type": "code",
      "metadata": {
        "id": "4dV9zzkK_xp8",
        "colab_type": "code",
        "colab": {}
      },
      "source": [
        "layer_dict = dict([(layer.name, layer) for layer in model.layers])"
      ],
      "execution_count": 0,
      "outputs": []
    },
    {
      "cell_type": "code",
      "metadata": {
        "id": "iYzR3jx-_yn1",
        "colab_type": "code",
        "colab": {}
      },
      "source": [
        "import numpy as np\n",
        "from matplotlib import pyplot as plt\n",
        "from keras import backend as K\n",
        "%matplotlib inline\n",
        "# util function to convert a tensor into a valid image\n",
        "def deprocess_image(x):\n",
        "    # normalize tensor: center on 0., ensure std is 0.1\n",
        "    x -= x.mean()\n",
        "    x /= (x.std() + 1e-5)\n",
        "    x *= 0.1\n",
        "\n",
        "    # clip to [0, 1]\n",
        "    x += 0.5\n",
        "    x = np.clip(x, 0, 1)\n",
        "\n",
        "    # convert to RGB array\n",
        "    x *= 255\n",
        "    #x = x.transpose((1, 2, 0))\n",
        "    x = np.clip(x, 0, 255).astype('uint8')\n",
        "    return x\n",
        "\n",
        "def vis_img_in_filter(img = np.array(X_train[2]).reshape((1, 28, 28, 1)).astype(np.float64), \n",
        "                      layer_name = 'conv2d_14'):\n",
        "    layer_output = layer_dict[layer_name].output\n",
        "    img_ascs = list()\n",
        "    for filter_index in range(layer_output.shape[3]):\n",
        "        # build a loss function that maximizes the activation\n",
        "        # of the nth filter of the layer considered\n",
        "        loss = K.mean(layer_output[:, :, :, filter_index])\n",
        "\n",
        "        # compute the gradient of the input picture wrt this loss\n",
        "        grads = K.gradients(loss, model.input)[0]\n",
        "\n",
        "        # normalization trick: we normalize the gradient\n",
        "        grads /= (K.sqrt(K.mean(K.square(grads))) + 1e-5)\n",
        "\n",
        "        # this function returns the loss and grads given the input picture\n",
        "        iterate = K.function([model.input], [loss, grads])\n",
        "\n",
        "        # step size for gradient ascent\n",
        "        step = 5.\n",
        "\n",
        "        img_asc = np.array(img)\n",
        "        # run gradient ascent for 20 steps\n",
        "        for i in range(20):\n",
        "            loss_value, grads_value = iterate([img_asc])\n",
        "            img_asc += grads_value * step\n",
        "\n",
        "        img_asc = img_asc[0]\n",
        "        img_ascs.append(deprocess_image(img_asc).reshape((28, 28)))\n",
        "        \n",
        "    if layer_output.shape[3] >= 35:\n",
        "        plot_x, plot_y = 6, 6\n",
        "    elif layer_output.shape[3] >= 23:\n",
        "        plot_x, plot_y = 4, 6\n",
        "    elif layer_output.shape[3] >= 11:\n",
        "        plot_x, plot_y = 2, 6\n",
        "    else:\n",
        "        plot_x, plot_y = 1, 2\n",
        "    fig, ax = plt.subplots(plot_x, plot_y, figsize = (12, 12))\n",
        "    ax[0, 0].imshow(img.reshape((28, 28)), cmap = 'gray')\n",
        "    ax[0, 0].set_title('Input image')\n",
        "    fig.suptitle('Input image and %s filters' % (layer_name,))\n",
        "    fig.tight_layout(pad = 0.3, rect = [0, 0, 0.9, 0.9])\n",
        "    for (x, y) in [(i, j) for i in range(plot_x) for j in range(plot_y)]:\n",
        "        if x == 0 and y == 0:\n",
        "            continue\n",
        "        ax[x, y].imshow(img_ascs[x * plot_y + y - 1], cmap = 'gray')\n",
        "        ax[x, y].set_title('filter %d' % (x * plot_y + y - 1))\n",
        "\n",
        "vis_img_in_filter()"
      ],
      "execution_count": 0,
      "outputs": []
    }
  ]
}