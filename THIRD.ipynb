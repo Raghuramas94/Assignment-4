{
  "nbformat": 4,
  "nbformat_minor": 0,
  "metadata": {
    "colab": {
      "name": "Untitled21.ipynb",
      "version": "0.3.2",
      "provenance": [],
      "include_colab_link": true
    },
    "kernelspec": {
      "name": "python3",
      "display_name": "Python 3"
    },
    "accelerator": "GPU"
  },
  "cells": [
    {
      "cell_type": "markdown",
      "metadata": {
        "id": "view-in-github",
        "colab_type": "text"
      },
      "source": [
        "<a href=\"https://colab.research.google.com/github/Raghuramas94/PROJECT-1/blob/master/THIRD.ipynb\" target=\"_parent\"><img src=\"https://colab.research.google.com/assets/colab-badge.svg\" alt=\"Open In Colab\"/></a>"
      ]
    },
    {
      "cell_type": "code",
      "metadata": {
        "id": "sa8YdSLRlzH1",
        "colab_type": "code",
        "outputId": "f7ccb117-e255-4a0e-8af8-6b4e21bdb6d2",
        "colab": {
          "base_uri": "https://localhost:8080/",
          "height": 34
        }
      },
      "source": [
        "# https://keras.io/\n",
        "!pip install -q keras\n",
        "import keras\n"
      ],
      "execution_count": 1,
      "outputs": [
        {
          "output_type": "stream",
          "text": [
            "Using TensorFlow backend.\n"
          ],
          "name": "stderr"
        }
      ]
    },
    {
      "cell_type": "code",
      "metadata": {
        "id": "Nb9_C1f-mTCI",
        "colab_type": "code",
        "colab": {}
      },
      "source": [
        "import numpy as np\n",
        "\n",
        "from keras.models import Sequential\n",
        "from keras.layers import Dense, Dropout, Activation, Flatten, Add, BatchNormalization\n",
        "from keras.layers import Convolution2D, MaxPooling2D\n",
        "from keras.utils import np_utils\n",
        "\n",
        "from keras.datasets import mnist"
      ],
      "execution_count": 0,
      "outputs": []
    },
    {
      "cell_type": "code",
      "metadata": {
        "id": "H68EB5X_mTwQ",
        "colab_type": "code",
        "colab": {
          "base_uri": "https://localhost:8080/",
          "height": 51
        },
        "outputId": "016191f1-070e-4372-d534-8d2be9f17afb"
      },
      "source": [
        "(X_train, y_train), (X_test, y_test) = mnist.load_data()"
      ],
      "execution_count": 3,
      "outputs": [
        {
          "output_type": "stream",
          "text": [
            "Downloading data from https://s3.amazonaws.com/img-datasets/mnist.npz\n",
            "11493376/11490434 [==============================] - 1s 0us/step\n"
          ],
          "name": "stdout"
        }
      ]
    },
    {
      "cell_type": "code",
      "metadata": {
        "id": "IdV04ihDmTzS",
        "colab_type": "code",
        "colab": {
          "base_uri": "https://localhost:8080/",
          "height": 303
        },
        "outputId": "79193c83-86e8-4da8-c410-9b43cc8accc3"
      },
      "source": [
        "print (X_train.shape)\n",
        "from matplotlib import pyplot as plt\n",
        "%matplotlib inline\n",
        "plt.imshow(X_train[0])"
      ],
      "execution_count": 4,
      "outputs": [
        {
          "output_type": "stream",
          "text": [
            "(60000, 28, 28)\n"
          ],
          "name": "stdout"
        },
        {
          "output_type": "execute_result",
          "data": {
            "text/plain": [
              "<matplotlib.image.AxesImage at 0x7f8739b48898>"
            ]
          },
          "metadata": {
            "tags": []
          },
          "execution_count": 4
        },
        {
          "output_type": "display_data",
          "data": {
            "image/png": "[encoded data removed]",
            "text/plain": [
              "<Figure size 432x288 with 1 Axes>"
            ]
          },
          "metadata": {
            "tags": []
          }
        }
      ]
    },
    {
      "cell_type": "code",
      "metadata": {
        "id": "vgZkBEWtmT2Q",
        "colab_type": "code",
        "colab": {}
      },
      "source": [
        "X_train = X_train.reshape(X_train.shape[0], 28, 28,1)\n",
        "X_test = X_test.reshape(X_test.shape[0], 28, 28,1)"
      ],
      "execution_count": 0,
      "outputs": []
    },
    {
      "cell_type": "code",
      "metadata": {
        "id": "FSah_IqfmT5R",
        "colab_type": "code",
        "colab": {}
      },
      "source": [
        "X_train = X_train.astype('float32')\n",
        "X_test = X_test.astype('float32')\n",
        "X_train /= 255\n",
        "X_test /= 255"
      ],
      "execution_count": 0,
      "outputs": []
    },
    {
      "cell_type": "code",
      "metadata": {
        "id": "xVEBvLa4mT8K",
        "colab_type": "code",
        "colab": {
          "base_uri": "https://localhost:8080/",
          "height": 34
        },
        "outputId": "5d8ff22e-047a-497c-f8a9-d4a71fd2ff45"
      },
      "source": [
        "y_train[:10]"
      ],
      "execution_count": 7,
      "outputs": [
        {
          "output_type": "execute_result",
          "data": {
            "text/plain": [
              "array([5, 0, 4, 1, 9, 2, 1, 3, 1, 4], dtype=uint8)"
            ]
          },
          "metadata": {
            "tags": []
          },
          "execution_count": 7
        }
      ]
    },
    {
      "cell_type": "code",
      "metadata": {
        "id": "xYDPktG0mT_S",
        "colab_type": "code",
        "colab": {}
      },
      "source": [
        "# Convert 1-dimensional class arrays to 10-dimensional class matrices\n",
        "Y_train = np_utils.to_categorical(y_train, 10)\n",
        "Y_test = np_utils.to_categorical(y_test, 10)"
      ],
      "execution_count": 0,
      "outputs": []
    },
    {
      "cell_type": "code",
      "metadata": {
        "id": "4VYyYTJ3mUCL",
        "colab_type": "code",
        "colab": {
          "base_uri": "https://localhost:8080/",
          "height": 187
        },
        "outputId": "fe0679f2-d37b-49af-ff33-b126153da94a"
      },
      "source": [
        "Y_train[:10]"
      ],
      "execution_count": 9,
      "outputs": [
        {
          "output_type": "execute_result",
          "data": {
            "text/plain": [
              "array([[0., 0., 0., 0., 0., 1., 0., 0., 0., 0.],\n",
              "       [1., 0., 0., 0., 0., 0., 0., 0., 0., 0.],\n",
              "       [0., 0., 0., 0., 1., 0., 0., 0., 0., 0.],\n",
              "       [0., 1., 0., 0., 0., 0., 0., 0., 0., 0.],\n",
              "       [0., 0., 0., 0., 0., 0., 0., 0., 0., 1.],\n",
              "       [0., 0., 1., 0., 0., 0., 0., 0., 0., 0.],\n",
              "       [0., 1., 0., 0., 0., 0., 0., 0., 0., 0.],\n",
              "       [0., 0., 0., 1., 0., 0., 0., 0., 0., 0.],\n",
              "       [0., 1., 0., 0., 0., 0., 0., 0., 0., 0.],\n",
              "       [0., 0., 0., 0., 1., 0., 0., 0., 0., 0.]], dtype=float32)"
            ]
          },
          "metadata": {
            "tags": []
          },
          "execution_count": 9
        }
      ]
    },
    {
      "cell_type": "code",
      "metadata": {
        "id": "-CZkQXwPmUFD",
        "colab_type": "code",
        "colab": {
          "base_uri": "https://localhost:8080/",
          "height": 173
        },
        "outputId": "d3623061-dc62-4e98-eab9-f9758bb0a5dd"
      },
      "source": [
        "from keras.layers import Activation\n",
        "model = Sequential()\n",
        " \n",
        "model.add(Convolution2D(20, 3, 3, activation='relu', input_shape=(28,28,1))) # 26\n",
        "model.add(BatchNormalization())\n",
        "\n",
        "\n",
        "model.add(Convolution2D(15, 3, 3, activation='relu')) # 24\n",
        "model.add(BatchNormalization())\n",
        "model.add(Dropout(0.1))\n",
        "\n",
        "model.add(Convolution2D(10, 3, 3, activation='relu')) # 22\n",
        "model.add(BatchNormalization())\n",
        "model.add(Dropout(0.1))\n",
        "\n",
        "model.add(MaxPooling2D(pool_size=(2, 2))) # 11\n",
        "model.add(Convolution2D(20, 3, 3, activation='relu')) # 9\n",
        "model.add(Dropout(0.1))\n",
        "\n",
        "#model.add(MaxPooling2D(pool_size=(2, 2))) # 10\n",
        "\n",
        "model.add(Convolution2D(15, 3, 3, activation='relu')) # 9\n",
        "model.add(BatchNormalization())\n",
        "model.add(Dropout(0.1))\n",
        "\n",
        "model.add(Convolution2D(10, 1, activation='relu')) #9\n",
        "model.add(BatchNormalization())\n",
        "model.add(Dropout(0.1))\n",
        "\n",
        "model.add(Convolution2D(10, 7))\n",
        "model.add(Flatten())\n",
        "model.add(Activation('softmax'))"
      ],
      "execution_count": 22,
      "outputs": [
        {
          "output_type": "stream",
          "text": [
            "/usr/local/lib/python3.6/dist-packages/ipykernel_launcher.py:4: UserWarning: Update your `Conv2D` call to the Keras 2 API: `Conv2D(20, (3, 3), activation=\"relu\", input_shape=(28, 28, 1...)`\n",
            "  after removing the cwd from sys.path.\n",
            "/usr/local/lib/python3.6/dist-packages/ipykernel_launcher.py:8: UserWarning: Update your `Conv2D` call to the Keras 2 API: `Conv2D(15, (3, 3), activation=\"relu\")`\n",
            "  \n",
            "/usr/local/lib/python3.6/dist-packages/ipykernel_launcher.py:12: UserWarning: Update your `Conv2D` call to the Keras 2 API: `Conv2D(10, (3, 3), activation=\"relu\")`\n",
            "  if sys.path[0] == '':\n",
            "/usr/local/lib/python3.6/dist-packages/ipykernel_launcher.py:17: UserWarning: Update your `Conv2D` call to the Keras 2 API: `Conv2D(20, (3, 3), activation=\"relu\")`\n",
            "/usr/local/lib/python3.6/dist-packages/ipykernel_launcher.py:22: UserWarning: Update your `Conv2D` call to the Keras 2 API: `Conv2D(15, (3, 3), activation=\"relu\")`\n"
          ],
          "name": "stderr"
        }
      ]
    },
    {
      "cell_type": "code",
      "metadata": {
        "id": "mTj_J0N9mUIA",
        "colab_type": "code",
        "colab": {
          "base_uri": "https://localhost:8080/",
          "height": 816
        },
        "outputId": "1710d305-9d1b-4a59-e844-ef8f0075674d"
      },
      "source": [
        "model.summary()"
      ],
      "execution_count": 23,
      "outputs": [
        {
          "output_type": "stream",
          "text": [
            "_________________________________________________________________\n",
            "Layer (type)                 Output Shape              Param #   \n",
            "=================================================================\n",
            "conv2d_10 (Conv2D)           (None, 26, 26, 20)        200       \n",
            "_________________________________________________________________\n",
            "batch_normalization_8 (Batch (None, 26, 26, 20)        80        \n",
            "_________________________________________________________________\n",
            "conv2d_11 (Conv2D)           (None, 24, 24, 15)        2715      \n",
            "_________________________________________________________________\n",
            "batch_normalization_9 (Batch (None, 24, 24, 15)        60        \n",
            "_________________________________________________________________\n",
            "dropout_3 (Dropout)          (None, 24, 24, 15)        0         \n",
            "_________________________________________________________________\n",
            "conv2d_12 (Conv2D)           (None, 22, 22, 10)        1360      \n",
            "_________________________________________________________________\n",
            "batch_normalization_10 (Batc (None, 22, 22, 10)        40        \n",
            "_________________________________________________________________\n",
            "dropout_4 (Dropout)          (None, 22, 22, 10)        0         \n",
            "_________________________________________________________________\n",
            "max_pooling2d_2 (MaxPooling2 (None, 11, 11, 10)        0         \n",
            "_________________________________________________________________\n",
            "conv2d_13 (Conv2D)           (None, 9, 9, 20)          1820      \n",
            "_________________________________________________________________\n",
            "dropout_5 (Dropout)          (None, 9, 9, 20)          0         \n",
            "_________________________________________________________________\n",
            "conv2d_14 (Conv2D)           (None, 7, 7, 15)          2715      \n",
            "_________________________________________________________________\n",
            "batch_normalization_11 (Batc (None, 7, 7, 15)          60        \n",
            "_________________________________________________________________\n",
            "dropout_6 (Dropout)          (None, 7, 7, 15)          0         \n",
            "_________________________________________________________________\n",
            "conv2d_15 (Conv2D)           (None, 7, 7, 10)          160       \n",
            "_________________________________________________________________\n",
            "batch_normalization_12 (Batc (None, 7, 7, 10)          40        \n",
            "_________________________________________________________________\n",
            "dropout_7 (Dropout)          (None, 7, 7, 10)          0         \n",
            "_________________________________________________________________\n",
            "conv2d_16 (Conv2D)           (None, 1, 1, 10)          4910      \n",
            "_________________________________________________________________\n",
            "flatten_2 (Flatten)          (None, 10)                0         \n",
            "_________________________________________________________________\n",
            "activation_2 (Activation)    (None, 10)                0         \n",
            "=================================================================\n",
            "Total params: 14,160\n",
            "Trainable params: 14,020\n",
            "Non-trainable params: 140\n",
            "_________________________________________________________________\n"
          ],
          "name": "stdout"
        }
      ]
    },
    {
      "cell_type": "code",
      "metadata": {
        "id": "oIYVRbsBmUMi",
        "colab_type": "code",
        "colab": {}
      },
      "source": [
        "model.compile(loss='categorical_crossentropy',\n",
        "             optimizer='adam',\n",
        "             metrics=['accuracy'])"
      ],
      "execution_count": 0,
      "outputs": []
    },
    {
      "cell_type": "code",
      "metadata": {
        "id": "1oFEmODQmnCh",
        "colab_type": "code",
        "colab": {
          "base_uri": "https://localhost:8080/",
          "height": 408
        },
        "outputId": "083e729a-9f96-4e4e-d83f-d17dc434e1b0"
      },
      "source": [
        "model.fit(X_train, Y_train, batch_size=32, nb_epoch=10, verbose=1)"
      ],
      "execution_count": 25,
      "outputs": [
        {
          "output_type": "stream",
          "text": [
            "/usr/local/lib/python3.6/dist-packages/ipykernel_launcher.py:1: UserWarning: The `nb_epoch` argument in `fit` has been renamed `epochs`.\n",
            "  \"\"\"Entry point for launching an IPython kernel.\n"
          ],
          "name": "stderr"
        },
        {
          "output_type": "stream",
          "text": [
            "Epoch 1/10\n",
            "60000/60000 [==============================] - 22s 374us/step - loss: 0.1894 - acc: 0.9412\n",
            "Epoch 2/10\n",
            "60000/60000 [==============================] - 20s 326us/step - loss: 0.0657 - acc: 0.9794\n",
            "Epoch 3/10\n",
            "60000/60000 [==============================] - 20s 328us/step - loss: 0.0520 - acc: 0.9842\n",
            "Epoch 4/10\n",
            "60000/60000 [==============================] - 21s 346us/step - loss: 0.0469 - acc: 0.9851\n",
            "Epoch 5/10\n",
            "60000/60000 [==============================] - 20s 336us/step - loss: 0.0422 - acc: 0.9870\n",
            "Epoch 6/10\n",
            "60000/60000 [==============================] - 20s 329us/step - loss: 0.0378 - acc: 0.9880\n",
            "Epoch 7/10\n",
            "60000/60000 [==============================] - 20s 326us/step - loss: 0.0331 - acc: 0.9893\n",
            "Epoch 8/10\n",
            "60000/60000 [==============================] - 21s 346us/step - loss: 0.0339 - acc: 0.9890\n",
            "Epoch 9/10\n",
            "60000/60000 [==============================] - 20s 326us/step - loss: 0.0311 - acc: 0.9898\n",
            "Epoch 10/10\n",
            "60000/60000 [==============================] - 20s 326us/step - loss: 0.0292 - acc: 0.9906\n"
          ],
          "name": "stdout"
        },
        {
          "output_type": "execute_result",
          "data": {
            "text/plain": [
              "<keras.callbacks.History at 0x7f8709523e48>"
            ]
          },
          "metadata": {
            "tags": []
          },
          "execution_count": 25
        }
      ]
    },
    {
      "cell_type": "code",
      "metadata": {
        "id": "171ZaLZNmpzh",
        "colab_type": "code",
        "colab": {
          "base_uri": "https://localhost:8080/",
          "height": 768
        },
        "outputId": "21cd3538-9597-4170-b380-1afac5aa7ace"
      },
      "source": [
        "model.fit(X_train, Y_train, batch_size=256, nb_epoch=20, verbose=1)"
      ],
      "execution_count": 26,
      "outputs": [
        {
          "output_type": "stream",
          "text": [
            "Epoch 1/20\n",
            " 2560/60000 [>.............................] - ETA: 3s - loss: 0.0197 - acc: 0.9930"
          ],
          "name": "stdout"
        },
        {
          "output_type": "stream",
          "text": [
            "/usr/local/lib/python3.6/dist-packages/ipykernel_launcher.py:1: UserWarning: The `nb_epoch` argument in `fit` has been renamed `epochs`.\n",
            "  \"\"\"Entry point for launching an IPython kernel.\n"
          ],
          "name": "stderr"
        },
        {
          "output_type": "stream",
          "text": [
            "60000/60000 [==============================] - 4s 61us/step - loss: 0.0183 - acc: 0.9941\n",
            "Epoch 2/20\n",
            "60000/60000 [==============================] - 4s 61us/step - loss: 0.0164 - acc: 0.9949\n",
            "Epoch 3/20\n",
            "60000/60000 [==============================] - 4s 61us/step - loss: 0.0162 - acc: 0.9949\n",
            "Epoch 4/20\n",
            "60000/60000 [==============================] - 4s 61us/step - loss: 0.0153 - acc: 0.9951\n",
            "Epoch 5/20\n",
            "60000/60000 [==============================] - 4s 61us/step - loss: 0.0144 - acc: 0.9953\n",
            "Epoch 6/20\n",
            "60000/60000 [==============================] - 4s 61us/step - loss: 0.0141 - acc: 0.9956\n",
            "Epoch 7/20\n",
            "60000/60000 [==============================] - 4s 61us/step - loss: 0.0139 - acc: 0.9953\n",
            "Epoch 8/20\n",
            "60000/60000 [==============================] - 4s 62us/step - loss: 0.0143 - acc: 0.9956\n",
            "Epoch 9/20\n",
            "60000/60000 [==============================] - 4s 65us/step - loss: 0.0139 - acc: 0.9954\n",
            "Epoch 10/20\n",
            "60000/60000 [==============================] - 4s 65us/step - loss: 0.0136 - acc: 0.9954\n",
            "Epoch 11/20\n",
            "60000/60000 [==============================] - 4s 64us/step - loss: 0.0131 - acc: 0.9956\n",
            "Epoch 12/20\n",
            "60000/60000 [==============================] - 4s 62us/step - loss: 0.0120 - acc: 0.9961\n",
            "Epoch 13/20\n",
            "60000/60000 [==============================] - 4s 61us/step - loss: 0.0128 - acc: 0.9958\n",
            "Epoch 14/20\n",
            "60000/60000 [==============================] - 4s 62us/step - loss: 0.0124 - acc: 0.9961\n",
            "Epoch 15/20\n",
            "60000/60000 [==============================] - 4s 62us/step - loss: 0.0131 - acc: 0.9956\n",
            "Epoch 16/20\n",
            "60000/60000 [==============================] - 4s 61us/step - loss: 0.0133 - acc: 0.9956\n",
            "Epoch 17/20\n",
            "60000/60000 [==============================] - 4s 61us/step - loss: 0.0119 - acc: 0.9960\n",
            "Epoch 18/20\n",
            "60000/60000 [==============================] - 4s 61us/step - loss: 0.0121 - acc: 0.9962\n",
            "Epoch 19/20\n",
            "60000/60000 [==============================] - 4s 61us/step - loss: 0.0117 - acc: 0.9963\n",
            "Epoch 20/20\n",
            "60000/60000 [==============================] - 4s 61us/step - loss: 0.0112 - acc: 0.9961\n"
          ],
          "name": "stdout"
        },
        {
          "output_type": "execute_result",
          "data": {
            "text/plain": [
              "<keras.callbacks.History at 0x7f8709798208>"
            ]
          },
          "metadata": {
            "tags": []
          },
          "execution_count": 26
        }
      ]
    },
    {
      "cell_type": "code",
      "metadata": {
        "id": "6LxqaVnkmrmx",
        "colab_type": "code",
        "colab": {}
      },
      "source": [
        "score = model.evaluate(X_test, Y_test, verbose=0)"
      ],
      "execution_count": 0,
      "outputs": []
    },
    {
      "cell_type": "code",
      "metadata": {
        "id": "fYnJCxEXmtMq",
        "colab_type": "code",
        "colab": {
          "base_uri": "https://localhost:8080/",
          "height": 34
        },
        "outputId": "01a00d78-3700-43ab-8a4a-3302fce0c795"
      },
      "source": [
        "print(score)"
      ],
      "execution_count": 28,
      "outputs": [
        {
          "output_type": "stream",
          "text": [
            "[0.020516871280319173, 0.9944]\n"
          ],
          "name": "stdout"
        }
      ]
    },
    {
      "cell_type": "code",
      "metadata": {
        "id": "DTF8Pim6mul6",
        "colab_type": "code",
        "colab": {}
      },
      "source": [
        "y_pred = model.predict(X_test)"
      ],
      "execution_count": 0,
      "outputs": []
    },
    {
      "cell_type": "code",
      "metadata": {
        "id": "gfJRulHpmwXi",
        "colab_type": "code",
        "colab": {
          "base_uri": "https://localhost:8080/",
          "height": 493
        },
        "outputId": "6ac23b7b-e020-49a0-f072-dd074f448d71"
      },
      "source": [
        "print(y_pred[:9])\n",
        "print(y_test[:9])"
      ],
      "execution_count": 30,
      "outputs": [
        {
          "output_type": "stream",
          "text": [
            "[[3.49835248e-16 1.46360257e-12 3.92326216e-09 2.73005757e-10\n",
            "  5.87903885e-14 2.05432595e-15 1.20600697e-19 1.00000000e+00\n",
            "  1.88627059e-15 7.85090673e-11]\n",
            " [7.98274982e-07 2.81455812e-07 9.99998808e-01 2.58956467e-10\n",
            "  1.03153028e-10 1.13733643e-12 9.36412121e-08 4.21412594e-09\n",
            "  4.86260054e-09 1.16062826e-10]\n",
            " [5.12302388e-11 9.99999523e-01 5.09253795e-08 2.83277291e-10\n",
            "  1.33540283e-07 2.16701128e-08 8.61752909e-08 1.34607276e-07\n",
            "  8.54019344e-09 5.14508400e-08]\n",
            " [9.99987960e-01 1.42072942e-12 1.83484843e-07 5.30295322e-11\n",
            "  2.72351836e-10 5.03413666e-09 1.17123727e-05 1.17459964e-09\n",
            "  4.10270644e-08 1.34528207e-07]\n",
            " [2.73071871e-10 6.54021726e-10 1.06394549e-09 8.36908251e-11\n",
            "  9.99996185e-01 6.07547079e-09 9.40406039e-07 2.26250840e-09\n",
            "  1.72107235e-08 2.78772382e-06]\n",
            " [5.01936062e-11 9.99992609e-01 6.20897822e-08 7.86480187e-11\n",
            "  5.79463119e-07 1.01728848e-09 4.67578225e-08 6.57382452e-06\n",
            "  2.66728222e-08 1.12646013e-07]\n",
            " [3.36893273e-16 4.92923995e-08 2.33703612e-11 3.54810278e-12\n",
            "  9.99996901e-01 8.92786105e-12 2.97198585e-11 3.39401794e-07\n",
            "  7.42020518e-07 2.05654987e-06]\n",
            " [2.91391772e-11 3.24513771e-09 1.06471720e-09 1.01129231e-07\n",
            "  2.42620245e-05 8.84746854e-09 1.57719076e-14 2.31719923e-07\n",
            "  5.34843210e-08 9.99975443e-01]\n",
            " [1.03677507e-06 1.18983523e-12 1.02020348e-09 8.10784684e-09\n",
            "  7.73747177e-10 9.95777011e-01 4.18070517e-03 3.31138103e-11\n",
            "  2.73494934e-05 1.38696605e-05]]\n",
            "[7 2 1 0 4 1 4 9 5]\n"
          ],
          "name": "stdout"
        }
      ]
    },
    {
      "cell_type": "code",
      "metadata": {
        "id": "cpgHTUdPmyP6",
        "colab_type": "code",
        "colab": {}
      },
      "source": [
        "layer_dict = dict([(layer.name, layer) for layer in model.layers])"
      ],
      "execution_count": 0,
      "outputs": []
    },
    {
      "cell_type": "code",
      "metadata": {
        "id": "jFuuwc0Cm0sS",
        "colab_type": "code",
        "colab": {
          "base_uri": "https://localhost:8080/",
          "height": 741
        },
        "outputId": "196da1c9-7aa0-467c-827b-329808f7f600"
      },
      "source": [
        "import numpy as np\n",
        "from matplotlib import pyplot as plt\n",
        "from keras import backend as K\n",
        "%matplotlib inline\n",
        "# util function to convert a tensor into a valid image\n",
        "def deprocess_image(x):\n",
        "    # normalize tensor: center on 0., ensure std is 0.1\n",
        "    x -= x.mean()\n",
        "    x /= (x.std() + 1e-5)\n",
        "    x *= 0.1\n",
        "\n",
        "    # clip to [0, 1]\n",
        "    x += 0.5\n",
        "    x = np.clip(x, 0, 1)\n",
        "\n",
        "    # convert to RGB array\n",
        "    x *= 255\n",
        "    #x = x.transpose((1, 2, 0))\n",
        "    x = np.clip(x, 0, 255).astype('uint8')\n",
        "    return x\n",
        "\n",
        "def vis_img_in_filter(img = np.array(X_train[2]).reshape((1, 28, 28, 1)).astype(np.float64), \n",
        "                      layer_name = 'conv2d_14'):\n",
        "    layer_output = layer_dict[layer_name].output\n",
        "    img_ascs = list()\n",
        "    for filter_index in range(layer_output.shape[3]):\n",
        "        # build a loss function that maximizes the activation\n",
        "        # of the nth filter of the layer considered\n",
        "        loss = K.mean(layer_output[:, :, :, filter_index])\n",
        "\n",
        "        # compute the gradient of the input picture wrt this loss\n",
        "        grads = K.gradients(loss, model.input)[0]\n",
        "\n",
        "        # normalization trick: we normalize the gradient\n",
        "        grads /= (K.sqrt(K.mean(K.square(grads))) + 1e-5)\n",
        "\n",
        "        # this function returns the loss and grads given the input picture\n",
        "        iterate = K.function([model.input], [loss, grads])\n",
        "\n",
        "        # step size for gradient ascent\n",
        "        step = 5.\n",
        "\n",
        "        img_asc = np.array(img)\n",
        "        # run gradient ascent for 20 steps\n",
        "        for i in range(20):\n",
        "            loss_value, grads_value = iterate([img_asc])\n",
        "            img_asc += grads_value * step\n",
        "\n",
        "        img_asc = img_asc[0]\n",
        "        img_ascs.append(deprocess_image(img_asc).reshape((28, 28)))\n",
        "        \n",
        "    if layer_output.shape[3] >= 35:\n",
        "        plot_x, plot_y = 6, 6\n",
        "    elif layer_output.shape[3] >= 23:\n",
        "        plot_x, plot_y = 4, 6\n",
        "    elif layer_output.shape[3] >= 11:\n",
        "        plot_x, plot_y = 2, 6\n",
        "    else:\n",
        "        plot_x, plot_y = 1, 2\n",
        "    fig, ax = plt.subplots(plot_x, plot_y, figsize = (12, 12))\n",
        "    ax[0, 0].imshow(img.reshape((28, 28)), cmap = 'gray')\n",
        "    ax[0, 0].set_title('Input image')\n",
        "    fig.suptitle('Input image and %s filters' % (layer_name,))\n",
        "    fig.tight_layout(pad = 0.3, rect = [0, 0, 0.9, 0.9])\n",
        "    for (x, y) in [(i, j) for i in range(plot_x) for j in range(plot_y)]:\n",
        "        if x == 0 and y == 0:\n",
        "            continue\n",
        "        ax[x, y].imshow(img_ascs[x * plot_y + y - 1], cmap = 'gray')\n",
        "        ax[x, y].set_title('filter %d' % (x * plot_y + y - 1))\n",
        "\n",
        "vis_img_in_filter()"
      ],
      "execution_count": 32,
      "outputs": [
        {
          "output_type": "display_data",
          "data": {
            "image/png": "[encoded data removed]",
            "text/plain": [
              "<Figure size 864x864 with 12 Axes>"
            ]
          },
          "metadata": {
            "tags": []
          }
        }
      ]
    },
    {
      "cell_type": "markdown",
      "metadata": {
        "id": "cPMmWbe0rkij",
        "colab_type": "text"
      },
      "source": [
        "#SUMMARY\n",
        "\n",
        "This code has been modified with a few enhancements to the previous code. The second code in this series was implented using BatchNormalization and Dropout. However, these could not provide the desired accuracy, as the model was overfitting when trained on the given batch size. The model was not overfitting when trained on the initial set of 10 epochs but was overfitting on the next set of 20 epochs. In order to reduce this effect, the Dropout has been added after every convolution operation. This reduces the effect of overfitting when trained on a large number of epochs and reduces the difference between the training and test error.\n",
        "Another enhancement in this code is the introduction of a large batch size. It was observed in the previous code that the enhancements were not working as desired because of the small batch size, as there were not enough images to be read in one batch. As we are working on MNIST dataset, the batch size has been increased in the second fit function to 256, so that there are enough images to be trained on in each iteration. \n",
        "Increasing the batch size to a big number like 256 generally results in overfitting and the model stops learning after a certain stage. However, this effect is reduced by introducing Dropout at every stage of the convolution operation.\n",
        "This has resulted in an accuracy of 99.44.\n"
      ]
    }
  ]
}